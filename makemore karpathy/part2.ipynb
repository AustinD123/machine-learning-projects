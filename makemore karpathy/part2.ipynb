{
 "cells": [
  {
   "cell_type": "code",
   "execution_count": 35,
   "id": "c89d60d9-115b-411a-96e8-749740649d0a",
   "metadata": {},
   "outputs": [],
   "source": [
    "import torch\n",
    "import torch.nn.functional as F\n",
    "import matplotlib.pyplot as plt # for making figures\n",
    "%matplotlib inline"
   ]
  },
  {
   "cell_type": "code",
   "execution_count": 36,
   "id": "f8739f94-b0ba-4642-8f99-982e72ed3967",
   "metadata": {},
   "outputs": [
    {
     "data": {
      "text/plain": [
       "['emma', 'olivia', 'ava', 'isabella', 'sophia', 'charlotte', 'mia', 'amelia']"
      ]
     },
     "execution_count": 36,
     "metadata": {},
     "output_type": "execute_result"
    }
   ],
   "source": [
    "# read in all the words\n",
    "words = open('names.txt', 'r').read().splitlines()\n",
    "words[:8]\n"
   ]
  },
  {
   "cell_type": "code",
   "execution_count": 37,
   "id": "868ca8c0-1006-4d80-b1a5-198961390126",
   "metadata": {},
   "outputs": [
    {
     "data": {
      "text/plain": [
       "32033"
      ]
     },
     "execution_count": 37,
     "metadata": {},
     "output_type": "execute_result"
    }
   ],
   "source": [
    "\n",
    "len(words)\n"
   ]
  },
  {
   "cell_type": "code",
   "execution_count": 38,
   "id": "4b799b1e-48e1-4894-ba13-ccde87e4544b",
   "metadata": {},
   "outputs": [],
   "source": [
    "chars= sorted(list(set(''.join(words))))"
   ]
  },
  {
   "cell_type": "code",
   "execution_count": 39,
   "id": "7abd2aaf-6c67-4da5-a17c-7084f90ae725",
   "metadata": {},
   "outputs": [
    {
     "data": {
      "text/plain": [
       "{1: 'a',\n",
       " 2: 'b',\n",
       " 3: 'c',\n",
       " 4: 'd',\n",
       " 5: 'e',\n",
       " 6: 'f',\n",
       " 7: 'g',\n",
       " 8: 'h',\n",
       " 9: 'i',\n",
       " 10: 'j',\n",
       " 11: 'k',\n",
       " 12: 'l',\n",
       " 13: 'm',\n",
       " 14: 'n',\n",
       " 15: 'o',\n",
       " 16: 'p',\n",
       " 17: 'q',\n",
       " 18: 'r',\n",
       " 19: 's',\n",
       " 20: 't',\n",
       " 21: 'u',\n",
       " 22: 'v',\n",
       " 23: 'w',\n",
       " 24: 'x',\n",
       " 25: 'y',\n",
       " 26: 'z',\n",
       " 0: '.'}"
      ]
     },
     "execution_count": 39,
     "metadata": {},
     "output_type": "execute_result"
    }
   ],
   "source": [
    "stoi={s:i+1 for i,s in enumerate(chars)}\n",
    "stoi[\".\"]=0\n",
    "itos={i:s for s,i in stoi.items()}\n",
    "itos"
   ]
  },
  {
   "cell_type": "code",
   "execution_count": 40,
   "id": "cc1da7de-76c7-4c3b-a94d-d0c2e7838fb8",
   "metadata": {},
   "outputs": [
    {
     "data": {
      "text/plain": [
       "torch.Size([228146])"
      ]
     },
     "execution_count": 40,
     "metadata": {},
     "output_type": "execute_result"
    }
   ],
   "source": [
    "block_size=3\n",
    "X,Y=[],[]\n",
    "for w in words:\n",
    "    context=[0]*block_size\n",
    "    for ch in w +'.':\n",
    "        ix=stoi[ch]\n",
    "        X.append(context)\n",
    "        Y.append(ix)\n",
    "        context=context[1:]+[ix]\n",
    "X=torch.tensor(X)\n",
    "Y=torch.tensor(Y)\n",
    "Y.shape"
   ]
  },
  {
   "cell_type": "code",
   "execution_count": 41,
   "id": "20495ed4-ae8a-4ecf-99be-d6ba47ed1ca7",
   "metadata": {},
   "outputs": [
    {
     "data": {
      "text/plain": [
       "(tensor([[ 0,  0,  0],\n",
       "         [ 0,  0,  5],\n",
       "         [ 0,  5, 13]]),\n",
       " tensor([ 5, 13, 13]))"
      ]
     },
     "execution_count": 41,
     "metadata": {},
     "output_type": "execute_result"
    }
   ],
   "source": [
    "X[:3],Y[:3]"
   ]
  },
  {
   "cell_type": "code",
   "execution_count": 92,
   "id": "9e3d07c3-cbfc-4176-b058-68add1fac882",
   "metadata": {},
   "outputs": [
    {
     "name": "stdout",
     "output_type": "stream",
     "text": [
      "torch.Size([182625, 3]) torch.Size([182625])\n",
      "torch.Size([22655, 3]) torch.Size([22655])\n",
      "torch.Size([22866, 3]) torch.Size([22866])\n"
     ]
    }
   ],
   "source": [
    "\n",
    "block_size = 3\n",
    "\n",
    "def build_dataset(words):  \n",
    "  X, Y = [], []\n",
    "  for w in words:\n",
    "\n",
    "\n",
    "    context = [0] * block_size\n",
    "    for ch in w + '.':\n",
    "      ix = stoi[ch]\n",
    "      X.append(context)\n",
    "      Y.append(ix)\n",
    "   \n",
    "      context = context[1:] + [ix]\n",
    "\n",
    "  X = torch.tensor(X)\n",
    "  Y = torch.tensor(Y)\n",
    "  print(X.shape, Y.shape)\n",
    "  return X, Y\n",
    "\n",
    "import random\n",
    "random.seed(42)\n",
    "random.shuffle(words)\n",
    "n1 = int(0.8*len(words))\n",
    "n2 = int(0.9*len(words))\n",
    "\n",
    "Xtr, Ytr = build_dataset(words[:n1])\n",
    "Xdev, Ydev = build_dataset(words[n1:n2])\n",
    "Xte, Yte = build_dataset(words[n2:])"
   ]
  },
  {
   "cell_type": "code",
   "execution_count": 42,
   "id": "36d04157-3a29-424f-9cca-3c73ac905036",
   "metadata": {},
   "outputs": [],
   "source": [
    "C=torch.randn((27,2),requires_grad=True)"
   ]
  },
  {
   "cell_type": "code",
   "execution_count": 43,
   "id": "6a52b250-ebaf-4f43-afa3-121f2b6c026f",
   "metadata": {},
   "outputs": [
    {
     "data": {
      "text/plain": [
       "tensor([[[ 1.1893, -0.9665],\n",
       "         [ 1.1893, -0.9665],\n",
       "         [ 1.1893, -0.9665]],\n",
       "\n",
       "        [[ 1.1893, -0.9665],\n",
       "         [ 1.1893, -0.9665],\n",
       "         [ 1.5701,  1.3417]],\n",
       "\n",
       "        [[ 1.1893, -0.9665],\n",
       "         [ 1.5701,  1.3417],\n",
       "         [-1.3827, -0.8364]],\n",
       "\n",
       "        ...,\n",
       "\n",
       "        [[ 0.6025, -0.9167],\n",
       "         [ 0.6025, -0.9167],\n",
       "         [-0.0943,  0.5165]],\n",
       "\n",
       "        [[ 0.6025, -0.9167],\n",
       "         [-0.0943,  0.5165],\n",
       "         [ 0.6025, -0.9167]],\n",
       "\n",
       "        [[-0.0943,  0.5165],\n",
       "         [ 0.6025, -0.9167],\n",
       "         [ 1.2712,  0.1180]]], grad_fn=<IndexBackward0>)"
      ]
     },
     "execution_count": 43,
     "metadata": {},
     "output_type": "execute_result"
    }
   ],
   "source": [
    "C[X]"
   ]
  },
  {
   "cell_type": "code",
   "execution_count": 44,
   "id": "f5d4926a-507d-41f8-8823-12d39493f33b",
   "metadata": {},
   "outputs": [
    {
     "data": {
      "text/plain": [
       "tensor([[ 1.1893, -0.9665],\n",
       "        [ 1.1893, -0.9665],\n",
       "        [ 1.5701,  1.3417]], grad_fn=<IndexBackward0>)"
      ]
     },
     "execution_count": 44,
     "metadata": {},
     "output_type": "execute_result"
    }
   ],
   "source": [
    "C[[0,0,5]]\n"
   ]
  },
  {
   "cell_type": "code",
   "execution_count": 45,
   "id": "0eeb8259-793b-45e6-9cf9-82792de13dcf",
   "metadata": {},
   "outputs": [
    {
     "data": {
      "text/plain": [
       "torch.Size([228146, 3, 2])"
      ]
     },
     "execution_count": 45,
     "metadata": {},
     "output_type": "execute_result"
    }
   ],
   "source": [
    "emb=C[X]\n",
    "emb.shape"
   ]
  },
  {
   "cell_type": "code",
   "execution_count": 46,
   "id": "aa9454a0-4aed-44cb-85cc-89cd9e263253",
   "metadata": {},
   "outputs": [],
   "source": []
  },
  {
   "cell_type": "code",
   "execution_count": 47,
   "id": "3cd856ba-1189-4a1f-98de-2da2d2687c7e",
   "metadata": {},
   "outputs": [
    {
     "data": {
      "text/plain": [
       "tensor([[ 1.1893, -0.9665,  1.1893, -0.9665,  1.1893, -0.9665],\n",
       "        [ 1.1893, -0.9665,  1.1893, -0.9665,  1.5701,  1.3417],\n",
       "        [ 1.1893, -0.9665,  1.5701,  1.3417, -1.3827, -0.8364],\n",
       "        ...,\n",
       "        [ 0.6025, -0.9167,  0.6025, -0.9167, -0.0943,  0.5165],\n",
       "        [ 0.6025, -0.9167, -0.0943,  0.5165,  0.6025, -0.9167],\n",
       "        [-0.0943,  0.5165,  0.6025, -0.9167,  1.2712,  0.1180]],\n",
       "       grad_fn=<CatBackward0>)"
      ]
     },
     "execution_count": 47,
     "metadata": {},
     "output_type": "execute_result"
    }
   ],
   "source": [
    "torch.cat([emb[:,0,:],emb[:,1,:],emb[:,2,:]],1)"
   ]
  },
  {
   "cell_type": "code",
   "execution_count": 48,
   "id": "3b560145-bfd1-4937-a94e-46f245b53b9c",
   "metadata": {},
   "outputs": [
    {
     "data": {
      "text/plain": [
       "tensor([[ 1.1893, -0.9665,  1.1893, -0.9665,  1.1893, -0.9665],\n",
       "        [ 1.1893, -0.9665,  1.1893, -0.9665,  1.5701,  1.3417],\n",
       "        [ 1.1893, -0.9665,  1.5701,  1.3417, -1.3827, -0.8364],\n",
       "        ...,\n",
       "        [ 0.6025, -0.9167,  0.6025, -0.9167, -0.0943,  0.5165],\n",
       "        [ 0.6025, -0.9167, -0.0943,  0.5165,  0.6025, -0.9167],\n",
       "        [-0.0943,  0.5165,  0.6025, -0.9167,  1.2712,  0.1180]],\n",
       "       grad_fn=<ViewBackward0>)"
      ]
     },
     "execution_count": 48,
     "metadata": {},
     "output_type": "execute_result"
    }
   ],
   "source": [
    "emb.view(228146,6)"
   ]
  },
  {
   "cell_type": "code",
   "execution_count": 49,
   "id": "ee1019db-a47c-4e72-944c-5d3a48dbc4c0",
   "metadata": {},
   "outputs": [
    {
     "data": {
      "text/plain": [
       "228146"
      ]
     },
     "execution_count": 49,
     "metadata": {},
     "output_type": "execute_result"
    }
   ],
   "source": [
    "emb.shape[0]"
   ]
  },
  {
   "cell_type": "code",
   "execution_count": 50,
   "id": "75af3503-b060-4b7b-a315-9d7ca1739248",
   "metadata": {},
   "outputs": [],
   "source": [
    "h=torch.tanh(emb.view(-1,6)@W1+b1)"
   ]
  },
  {
   "cell_type": "code",
   "execution_count": 51,
   "id": "ba042968-fee7-4a01-b21d-788b9239bf33",
   "metadata": {},
   "outputs": [
    {
     "data": {
      "text/plain": [
       "torch.Size([228146, 100])"
      ]
     },
     "execution_count": 51,
     "metadata": {},
     "output_type": "execute_result"
    }
   ],
   "source": [
    "h.shape"
   ]
  },
  {
   "cell_type": "code",
   "execution_count": 135,
   "id": "e438ed94-410e-4d12-b7e7-0251cfe717fd",
   "metadata": {},
   "outputs": [],
   "source": [
    "C=torch.randn((27,10),requires_grad=True)\n",
    "W1=torch.randn((30,200),requires_grad=True)\n",
    "b1=torch.randn(200,requires_grad=True)\n",
    "W2=torch.randn((200,27),requires_grad=True)\n",
    "b2=torch.randn(27,requires_grad=True)"
   ]
  },
  {
   "cell_type": "code",
   "execution_count": 136,
   "id": "5b9bd943-7a60-429c-ac56-39ad9cdcfa80",
   "metadata": {},
   "outputs": [],
   "source": [
    "logits=h@W2+b2"
   ]
  },
  {
   "cell_type": "code",
   "execution_count": 137,
   "id": "d7935351-2f91-4c97-82d2-abbef9803a72",
   "metadata": {},
   "outputs": [
    {
     "data": {
      "text/plain": [
       "tensor([[9.9668e-01, 8.9543e-16, 5.1375e-20, 2.5329e-14, 2.3710e-17, 3.3403e-13,\n",
       "         3.1260e-12, 1.2525e-15, 2.9254e-21, 2.5049e-13, 3.3144e-03, 8.5544e-15,\n",
       "         7.6752e-24, 1.7625e-22, 6.9839e-15, 4.7336e-23, 3.7144e-23, 9.1981e-06,\n",
       "         4.9280e-24, 1.5807e-07, 1.3143e-07, 1.1576e-12, 2.1031e-09, 4.3894e-17,\n",
       "         5.8993e-14, 6.4933e-22, 6.1165e-30],\n",
       "        [6.5168e-08, 1.1756e-01, 2.3966e-14, 1.1613e-08, 1.7394e-05, 1.0619e-07,\n",
       "         5.2879e-07, 1.1621e-11, 4.2738e-20, 1.3853e-10, 1.6625e-01, 2.2008e-02,\n",
       "         3.1519e-12, 4.4972e-11, 6.3360e-04, 4.7899e-06, 1.6262e-09, 9.3596e-06,\n",
       "         2.5374e-15, 6.9328e-01, 6.4829e-05, 2.0923e-15, 4.7138e-07, 1.7048e-04,\n",
       "         1.2468e-16, 2.1009e-06, 1.0511e-11],\n",
       "        [2.1468e-08, 5.2374e-21, 1.9566e-16, 5.7781e-11, 1.2302e-05, 1.1768e-10,\n",
       "         1.3281e-06, 1.1212e-08, 9.1315e-11, 2.8540e-13, 9.9991e-01, 8.1578e-14,\n",
       "         1.3474e-10, 2.7503e-12, 1.2858e-16, 7.7969e-09, 7.6468e-12, 8.0084e-05,\n",
       "         2.5728e-22, 1.0876e-13, 6.9141e-21, 5.5627e-25, 8.4898e-09, 1.6375e-16,\n",
       "         5.9551e-20, 6.3656e-12, 8.8159e-16],\n",
       "        [4.2466e-16, 1.5364e-13, 5.0129e-15, 2.0169e-16, 8.9039e-15, 3.9604e-14,\n",
       "         4.2660e-08, 7.8419e-22, 1.5363e-30, 9.1991e-12, 3.8157e-08, 2.9664e-13,\n",
       "         2.7204e-25, 8.9033e-16, 6.2319e-19, 3.1730e-21, 2.4654e-21, 2.9948e-06,\n",
       "         1.7526e-23, 4.0060e-08, 3.2312e-09, 3.7672e-18, 4.2139e-19, 1.0000e+00,\n",
       "         2.0343e-25, 2.8766e-14, 3.6515e-19],\n",
       "        [1.4271e-11, 2.0496e-17, 7.7480e-14, 4.9292e-16, 1.6675e-04, 3.4570e-14,\n",
       "         9.3833e-01, 3.0769e-14, 2.2578e-17, 7.0178e-18, 2.2504e-02, 5.5017e-22,\n",
       "         1.7667e-12, 4.7504e-03, 7.4939e-17, 5.7821e-16, 2.4610e-11, 3.4848e-06,\n",
       "         1.0809e-10, 8.5393e-07, 3.4235e-02, 5.6987e-06, 9.4212e-11, 1.2421e-19,\n",
       "         5.4338e-11, 1.6555e-17, 3.4359e-11],\n",
       "        [1.0870e-01, 2.1703e-11, 1.2344e-19, 3.2118e-19, 3.9349e-18, 6.7397e-14,\n",
       "         4.9111e-01, 4.3908e-16, 1.8198e-22, 2.9315e-04, 9.3895e-02, 1.6975e-23,\n",
       "         5.7302e-14, 4.5328e-19, 5.3097e-11, 1.6086e-22, 1.3419e-14, 1.6150e-01,\n",
       "         1.5857e-10, 7.0400e-13, 4.9410e-02, 1.5151e-12, 1.6905e-04, 9.4920e-02,\n",
       "         1.7881e-11, 1.7327e-27, 1.1526e-16],\n",
       "        [1.7028e-11, 3.5990e-14, 3.8633e-06, 4.8624e-09, 2.2339e-15, 3.5540e-07,\n",
       "         3.4589e-23, 5.2121e-01, 5.0968e-18, 6.3440e-21, 1.5558e-18, 3.9219e-17,\n",
       "         7.4979e-09, 4.3648e-01, 7.8351e-13, 7.4338e-14, 8.8583e-17, 2.7460e-18,\n",
       "         1.8282e-12, 4.2305e-02, 3.0708e-20, 8.6159e-18, 5.1545e-15, 2.8294e-16,\n",
       "         3.7880e-11, 4.9000e-21, 3.1445e-12],\n",
       "        [1.0624e-10, 5.4585e-19, 1.6228e-07, 3.7309e-15, 2.1605e-09, 9.1210e-09,\n",
       "         3.0439e-22, 1.3308e-03, 2.6728e-03, 6.6499e-07, 2.6924e-07, 3.1969e-17,\n",
       "         3.8916e-10, 9.8619e-01, 2.5283e-06, 2.9558e-04, 4.5864e-20, 3.0600e-13,\n",
       "         1.4162e-16, 1.5459e-12, 6.0333e-15, 1.6050e-17, 7.5509e-11, 1.9325e-11,\n",
       "         9.5068e-03, 1.0558e-11, 6.2972e-08],\n",
       "        [1.9212e-16, 4.2998e-21, 1.4703e-16, 4.0403e-12, 9.9874e-01, 4.6548e-15,\n",
       "         2.6457e-16, 2.5468e-09, 4.6799e-22, 9.0563e-17, 1.2399e-03, 1.3813e-18,\n",
       "         1.6000e-16, 1.3719e-07, 2.0816e-21, 2.1787e-05, 4.8352e-20, 1.7193e-15,\n",
       "         1.2632e-16, 7.9216e-12, 4.2536e-26, 1.2361e-25, 3.6555e-21, 1.1973e-11,\n",
       "         1.1553e-16, 5.1581e-10, 1.3639e-14],\n",
       "        [1.2706e-09, 8.2987e-13, 7.6603e-05, 1.3084e-13, 1.7153e-04, 2.4597e-08,\n",
       "         8.6815e-17, 2.3505e-01, 1.9293e-06, 1.1852e-06, 2.4662e-06, 1.6739e-12,\n",
       "         4.3264e-03, 2.7458e-09, 4.8138e-03, 4.4304e-04, 1.4166e-17, 6.1670e-11,\n",
       "         6.8511e-18, 8.7845e-18, 7.1101e-08, 3.3037e-13, 4.2465e-16, 2.3836e-05,\n",
       "         1.4748e-14, 5.1392e-12, 7.5509e-01],\n",
       "        [6.9990e-10, 1.5315e-25, 6.4819e-13, 5.2336e-17, 5.9793e-16, 2.9559e-16,\n",
       "         2.2975e-09, 3.0125e-20, 1.5505e-26, 3.4519e-03, 8.5282e-01, 9.3001e-27,\n",
       "         1.5588e-08, 3.7106e-11, 3.0230e-23, 2.3058e-08, 4.2908e-22, 3.5700e-04,\n",
       "         1.2601e-01, 6.3907e-13, 1.7358e-02, 4.3864e-11, 1.2009e-21, 5.6798e-07,\n",
       "         1.6712e-12, 1.9842e-17, 1.9774e-10],\n",
       "        [1.1333e-12, 6.5216e-18, 7.9464e-15, 1.6558e-08, 9.3884e-01, 5.2277e-16,\n",
       "         1.2601e-19, 4.7115e-15, 9.7736e-13, 2.6811e-24, 2.6534e-14, 7.7313e-24,\n",
       "         1.2118e-12, 6.1160e-02, 3.3009e-16, 2.6909e-14, 5.8697e-21, 1.0680e-16,\n",
       "         4.4103e-18, 1.1094e-15, 8.6660e-14, 5.6840e-17, 2.2809e-15, 9.2070e-08,\n",
       "         2.4556e-17, 1.2377e-16, 8.4905e-10],\n",
       "        [7.2283e-07, 5.6853e-20, 1.1043e-17, 6.0726e-07, 1.6383e-12, 9.9927e-09,\n",
       "         2.9071e-06, 6.4456e-15, 1.6109e-14, 3.7449e-09, 1.5645e-08, 1.3464e-12,\n",
       "         1.1137e-14, 9.9999e-01, 2.9685e-11, 9.2674e-07, 4.5753e-11, 5.1402e-16,\n",
       "         3.4669e-14, 4.2597e-09, 3.3201e-19, 6.5066e-23, 8.3129e-23, 7.4006e-15,\n",
       "         2.2274e-18, 3.6024e-14, 1.4306e-14],\n",
       "        [2.1628e-13, 2.3195e-19, 6.1222e-12, 1.0452e-08, 1.9141e-03, 1.9256e-12,\n",
       "         3.0863e-12, 8.0633e-11, 3.4461e-11, 4.5686e-15, 6.6766e-06, 2.3395e-14,\n",
       "         9.9197e-07, 9.9808e-01, 9.0900e-16, 1.4351e-08, 4.4616e-12, 5.7729e-08,\n",
       "         3.0960e-13, 7.2951e-09, 5.7464e-15, 3.9906e-11, 1.3156e-13, 4.5556e-09,\n",
       "         9.7222e-15, 7.6486e-12, 4.5876e-16],\n",
       "        [1.3735e-21, 6.2002e-17, 5.2522e-25, 3.4033e-25, 4.4783e-08, 6.6067e-14,\n",
       "         4.3934e-22, 9.4117e-01, 1.6710e-18, 1.9147e-25, 7.2657e-16, 1.1971e-20,\n",
       "         2.0971e-18, 5.8830e-02, 2.1667e-14, 2.1101e-14, 4.7542e-12, 1.0426e-20,\n",
       "         3.4502e-19, 3.7962e-12, 7.0984e-20, 1.1909e-21, 1.1588e-24, 3.0785e-11,\n",
       "         8.2273e-15, 2.0227e-23, 4.1907e-18],\n",
       "        [1.1333e-12, 6.5216e-18, 7.9464e-15, 1.6558e-08, 9.3884e-01, 5.2277e-16,\n",
       "         1.2601e-19, 4.7115e-15, 9.7736e-13, 2.6811e-24, 2.6534e-14, 7.7313e-24,\n",
       "         1.2118e-12, 6.1160e-02, 3.3009e-16, 2.6909e-14, 5.8697e-21, 1.0680e-16,\n",
       "         4.4103e-18, 1.1094e-15, 8.6660e-14, 5.6840e-17, 2.2809e-15, 9.2070e-08,\n",
       "         2.4556e-17, 1.2377e-16, 8.4905e-10],\n",
       "        [1.1333e-12, 6.5216e-18, 7.9464e-15, 1.6558e-08, 9.3884e-01, 5.2277e-16,\n",
       "         1.2601e-19, 4.7115e-15, 9.7736e-13, 2.6811e-24, 2.6534e-14, 7.7313e-24,\n",
       "         1.2118e-12, 6.1160e-02, 3.3009e-16, 2.6909e-14, 5.8697e-21, 1.0680e-16,\n",
       "         4.4103e-18, 1.1094e-15, 8.6660e-14, 5.6840e-17, 2.2809e-15, 9.2070e-08,\n",
       "         2.4556e-17, 1.2377e-16, 8.4905e-10],\n",
       "        [2.7475e-13, 3.3224e-20, 1.3666e-19, 3.9364e-06, 6.9096e-08, 6.0193e-08,\n",
       "         1.2891e-14, 3.4608e-06, 3.9476e-07, 4.2500e-09, 1.2536e-06, 1.4557e-21,\n",
       "         7.5248e-16, 9.9977e-01, 4.2505e-15, 8.7940e-12, 1.7691e-08, 1.6305e-09,\n",
       "         1.6201e-11, 1.9788e-13, 4.3783e-22, 2.7199e-17, 2.4890e-11, 1.4235e-08,\n",
       "         2.2080e-10, 2.2100e-04, 1.6534e-17],\n",
       "        [1.1333e-12, 6.5216e-18, 7.9464e-15, 1.6558e-08, 9.3884e-01, 5.2277e-16,\n",
       "         1.2601e-19, 4.7115e-15, 9.7736e-13, 2.6811e-24, 2.6534e-14, 7.7313e-24,\n",
       "         1.2118e-12, 6.1160e-02, 3.3009e-16, 2.6909e-14, 5.8697e-21, 1.0680e-16,\n",
       "         4.4103e-18, 1.1094e-15, 8.6660e-14, 5.6840e-17, 2.2809e-15, 9.2070e-08,\n",
       "         2.4556e-17, 1.2377e-16, 8.4905e-10],\n",
       "        [1.5915e-12, 1.5816e-16, 4.0560e-21, 1.5125e-18, 5.1848e-01, 9.5006e-11,\n",
       "         1.6077e-13, 4.1240e-05, 1.3985e-08, 2.7317e-12, 4.7905e-01, 1.1796e-05,\n",
       "         2.0296e-13, 2.3408e-03, 4.2847e-21, 6.4279e-06, 2.1219e-08, 1.6997e-09,\n",
       "         1.5665e-18, 4.9642e-05, 6.4828e-14, 5.9460e-20, 3.7887e-20, 1.7771e-06,\n",
       "         3.4986e-15, 2.1635e-05, 9.9853e-11],\n",
       "        [1.1333e-12, 6.5216e-18, 7.9464e-15, 1.6558e-08, 9.3884e-01, 5.2277e-16,\n",
       "         1.2601e-19, 4.7115e-15, 9.7736e-13, 2.6811e-24, 2.6534e-14, 7.7313e-24,\n",
       "         1.2118e-12, 6.1160e-02, 3.3009e-16, 2.6909e-14, 5.8697e-21, 1.0680e-16,\n",
       "         4.4103e-18, 1.1094e-15, 8.6660e-14, 5.6840e-17, 2.2809e-15, 9.2070e-08,\n",
       "         2.4556e-17, 1.2377e-16, 8.4905e-10],\n",
       "        [2.5600e-12, 5.0321e-15, 2.4042e-12, 1.4578e-09, 4.3105e-09, 5.4575e-05,\n",
       "         6.4645e-10, 5.2678e-06, 4.0272e-11, 2.2096e-11, 1.9543e-05, 9.7104e-14,\n",
       "         3.3917e-18, 5.7751e-14, 1.4943e-11, 9.9265e-01, 5.0796e-16, 1.9222e-12,\n",
       "         9.2168e-22, 1.2484e-16, 2.4018e-14, 3.6633e-16, 1.5256e-14, 6.5935e-09,\n",
       "         2.7643e-12, 7.2678e-03, 4.4194e-13],\n",
       "        [3.7269e-26, 4.5920e-22, 7.2423e-15, 1.9663e-18, 9.5765e-10, 7.7997e-25,\n",
       "         8.1322e-20, 3.3633e-25, 5.0852e-15, 1.5049e-23, 1.0196e-18, 4.4343e-27,\n",
       "         2.7367e-16, 1.0000e+00, 1.0203e-22, 1.5455e-26, 6.7519e-28, 8.4041e-11,\n",
       "         1.3272e-16, 2.3290e-11, 3.9315e-19, 1.8500e-13, 2.4511e-16, 3.0036e-21,\n",
       "         1.2594e-13, 1.7877e-23, 1.3324e-23],\n",
       "        [1.1333e-12, 6.5216e-18, 7.9464e-15, 1.6558e-08, 9.3884e-01, 5.2277e-16,\n",
       "         1.2601e-19, 4.7115e-15, 9.7736e-13, 2.6811e-24, 2.6534e-14, 7.7313e-24,\n",
       "         1.2118e-12, 6.1160e-02, 3.3009e-16, 2.6909e-14, 5.8697e-21, 1.0680e-16,\n",
       "         4.4103e-18, 1.1094e-15, 8.6660e-14, 5.6840e-17, 2.2809e-15, 9.2070e-08,\n",
       "         2.4556e-17, 1.2377e-16, 8.4905e-10],\n",
       "        [3.3089e-19, 1.0215e-18, 3.8315e-02, 2.3821e-14, 6.1875e-13, 8.2478e-12,\n",
       "         3.6174e-26, 6.5363e-08, 6.5503e-07, 2.9057e-14, 1.0550e-06, 8.7999e-20,\n",
       "         1.2165e-05, 9.6133e-01, 1.9167e-13, 1.4534e-11, 2.5875e-17, 4.9986e-13,\n",
       "         1.6335e-15, 1.1678e-10, 1.3171e-19, 2.7591e-17, 1.1376e-10, 2.6177e-19,\n",
       "         4.4266e-09, 3.3875e-04, 1.8225e-09],\n",
       "        [3.1477e-16, 5.9251e-24, 1.4846e-15, 1.1139e-11, 1.9102e-09, 1.3132e-11,\n",
       "         9.9994e-01, 1.1787e-18, 2.1020e-19, 4.1616e-17, 5.5178e-09, 7.4187e-23,\n",
       "         3.7337e-10, 6.0314e-05, 4.5474e-13, 3.1120e-14, 3.4127e-16, 1.3789e-11,\n",
       "         8.2067e-16, 3.6477e-12, 2.2293e-11, 8.9604e-14, 5.5608e-10, 3.0175e-21,\n",
       "         1.2904e-17, 9.7016e-21, 3.1414e-12],\n",
       "        [3.0710e-18, 1.3271e-28, 1.7636e-12, 9.7936e-15, 7.5410e-19, 2.0266e-20,\n",
       "         3.7123e-23, 2.4622e-20, 1.2771e-29, 4.9718e-23, 4.8537e-19, 7.3008e-32,\n",
       "         3.6616e-13, 1.0000e+00, 1.2040e-23, 4.8630e-20, 2.9749e-28, 1.4313e-16,\n",
       "         6.7283e-15, 5.1080e-20, 1.1914e-23, 1.4602e-23, 1.6205e-24, 4.3345e-21,\n",
       "         2.0995e-17, 4.3542e-23, 7.6213e-25],\n",
       "        [4.0232e-18, 5.1234e-20, 6.9888e-21, 8.5307e-19, 1.6298e-01, 9.0960e-08,\n",
       "         8.9662e-11, 1.2091e-08, 9.7375e-12, 2.9426e-16, 8.3681e-01, 2.5337e-05,\n",
       "         1.2378e-20, 1.4066e-14, 1.6188e-16, 6.2039e-12, 1.8435e-04, 4.3338e-10,\n",
       "         3.2148e-15, 1.9100e-12, 2.2623e-15, 1.4833e-17, 1.8832e-18, 1.2791e-17,\n",
       "         1.4677e-20, 3.3332e-08, 2.6803e-10],\n",
       "        [1.2271e-07, 1.4479e-13, 1.2430e-05, 2.6435e-10, 1.6143e-09, 9.3799e-01,\n",
       "         9.4250e-11, 1.1084e-03, 4.8984e-06, 8.0781e-08, 8.0443e-05, 2.4317e-07,\n",
       "         2.0061e-06, 3.1164e-05, 6.8648e-05, 5.8710e-02, 5.4456e-09, 1.0486e-09,\n",
       "         1.1144e-16, 1.0353e-16, 4.0619e-12, 7.8295e-12, 4.5523e-13, 1.7163e-05,\n",
       "         4.0069e-08, 5.8512e-04, 1.3885e-03],\n",
       "        [9.8857e-20, 6.8857e-28, 1.4727e-14, 4.8917e-18, 9.1911e-20, 1.5546e-18,\n",
       "         9.9999e-01, 1.5598e-16, 1.2260e-13, 1.5534e-19, 3.9141e-17, 1.4773e-17,\n",
       "         8.3136e-19, 8.1869e-06, 9.9549e-17, 4.0258e-15, 6.6907e-20, 2.0865e-15,\n",
       "         6.1455e-24, 1.3501e-11, 1.7467e-11, 9.6396e-15, 4.8144e-20, 1.7807e-26,\n",
       "         1.4180e-10, 2.0178e-14, 2.4350e-21],\n",
       "        [4.4631e-13, 2.4778e-18, 1.8281e-02, 1.0512e-14, 2.2568e-21, 2.0432e-16,\n",
       "         5.8243e-23, 8.5844e-12, 1.0361e-13, 1.2900e-15, 4.5624e-15, 4.5778e-18,\n",
       "         9.8010e-01, 1.6198e-03, 3.3174e-12, 6.9246e-15, 1.6035e-21, 3.1190e-15,\n",
       "         4.8667e-17, 2.4287e-17, 5.8203e-18, 1.2893e-15, 1.1464e-13, 2.8560e-18,\n",
       "         3.1102e-12, 2.7590e-14, 3.3342e-06],\n",
       "        [2.3774e-16, 9.7453e-18, 1.9342e-13, 3.0414e-09, 4.3994e-04, 4.0882e-23,\n",
       "         1.8091e-17, 2.4070e-12, 8.6795e-20, 1.0446e-29, 5.0354e-16, 2.7966e-24,\n",
       "         1.2137e-12, 9.9956e-01, 3.0674e-22, 1.9256e-20, 5.5522e-15, 1.3413e-14,\n",
       "         5.3278e-17, 2.3112e-09, 5.9213e-10, 3.8324e-17, 1.1418e-14, 1.8193e-14,\n",
       "         9.3997e-15, 2.8298e-22, 1.4781e-20]], grad_fn=<DivBackward0>)"
      ]
     },
     "execution_count": 137,
     "metadata": {},
     "output_type": "execute_result"
    }
   ],
   "source": [
    "counts=logits.exp()\n",
    "prob=counts/counts.sum(1,keepdims=True)\n",
    "prob"
   ]
  },
  {
   "cell_type": "code",
   "execution_count": 138,
   "id": "32f88342-4f1b-403a-a17a-5f719fe3d9ec",
   "metadata": {},
   "outputs": [
    {
     "ename": "IndexError",
     "evalue": "shape mismatch: indexing tensors could not be broadcast together with shapes [32], [228146]",
     "output_type": "error",
     "traceback": [
      "\u001b[1;31m---------------------------------------------------------------------------\u001b[0m",
      "\u001b[1;31mIndexError\u001b[0m                                Traceback (most recent call last)",
      "Cell \u001b[1;32mIn[138], line 1\u001b[0m\n\u001b[1;32m----> 1\u001b[0m loss\u001b[38;5;241m=\u001b[39m\u001b[38;5;241m-\u001b[39m\u001b[43mprob\u001b[49m\u001b[43m[\u001b[49m\u001b[43mtorch\u001b[49m\u001b[38;5;241;43m.\u001b[39;49m\u001b[43marange\u001b[49m\u001b[43m(\u001b[49m\u001b[43memb\u001b[49m\u001b[38;5;241;43m.\u001b[39;49m\u001b[43mshape\u001b[49m\u001b[43m[\u001b[49m\u001b[38;5;241;43m0\u001b[39;49m\u001b[43m]\u001b[49m\u001b[43m)\u001b[49m\u001b[43m,\u001b[49m\u001b[43mY\u001b[49m\u001b[43m]\u001b[49m\u001b[38;5;241m.\u001b[39mlog()\u001b[38;5;241m.\u001b[39mmean()\n\u001b[0;32m      2\u001b[0m loss\n",
      "\u001b[1;31mIndexError\u001b[0m: shape mismatch: indexing tensors could not be broadcast together with shapes [32], [228146]"
     ]
    }
   ],
   "source": [
    "loss=-prob[torch.arange(emb.shape[0]),Y].log().mean()\n",
    "loss"
   ]
  },
  {
   "cell_type": "code",
   "execution_count": 139,
   "id": "d61b52d9-d066-48ca-835a-c2a5a8b167ce",
   "metadata": {},
   "outputs": [],
   "source": [
    "parameters=[C,W1,b1,W2,b2]"
   ]
  },
  {
   "cell_type": "code",
   "execution_count": 140,
   "id": "1f8638a3-a392-49f2-9ac0-6913dc7a62bf",
   "metadata": {},
   "outputs": [
    {
     "ename": "ValueError",
     "evalue": "Expected input batch_size (32) to match target batch_size (228146).",
     "output_type": "error",
     "traceback": [
      "\u001b[1;31m---------------------------------------------------------------------------\u001b[0m",
      "\u001b[1;31mValueError\u001b[0m                                Traceback (most recent call last)",
      "Cell \u001b[1;32mIn[140], line 1\u001b[0m\n\u001b[1;32m----> 1\u001b[0m \u001b[43mF\u001b[49m\u001b[38;5;241;43m.\u001b[39;49m\u001b[43mcross_entropy\u001b[49m\u001b[43m(\u001b[49m\u001b[43mlogits\u001b[49m\u001b[43m,\u001b[49m\u001b[43mY\u001b[49m\u001b[43m)\u001b[49m\n\u001b[0;32m      2\u001b[0m logits\u001b[38;5;241m.\u001b[39mshape\n",
      "File \u001b[1;32m~\\AppData\\Local\\Programs\\Python\\Python312\\Lib\\site-packages\\torch\\nn\\functional.py:3104\u001b[0m, in \u001b[0;36mcross_entropy\u001b[1;34m(input, target, weight, size_average, ignore_index, reduce, reduction, label_smoothing)\u001b[0m\n\u001b[0;32m   3102\u001b[0m \u001b[38;5;28;01mif\u001b[39;00m size_average \u001b[38;5;129;01mis\u001b[39;00m \u001b[38;5;129;01mnot\u001b[39;00m \u001b[38;5;28;01mNone\u001b[39;00m \u001b[38;5;129;01mor\u001b[39;00m reduce \u001b[38;5;129;01mis\u001b[39;00m \u001b[38;5;129;01mnot\u001b[39;00m \u001b[38;5;28;01mNone\u001b[39;00m:\n\u001b[0;32m   3103\u001b[0m     reduction \u001b[38;5;241m=\u001b[39m _Reduction\u001b[38;5;241m.\u001b[39mlegacy_get_string(size_average, reduce)\n\u001b[1;32m-> 3104\u001b[0m \u001b[38;5;28;01mreturn\u001b[39;00m \u001b[43mtorch\u001b[49m\u001b[38;5;241;43m.\u001b[39;49m\u001b[43m_C\u001b[49m\u001b[38;5;241;43m.\u001b[39;49m\u001b[43m_nn\u001b[49m\u001b[38;5;241;43m.\u001b[39;49m\u001b[43mcross_entropy_loss\u001b[49m\u001b[43m(\u001b[49m\u001b[38;5;28;43minput\u001b[39;49m\u001b[43m,\u001b[49m\u001b[43m \u001b[49m\u001b[43mtarget\u001b[49m\u001b[43m,\u001b[49m\u001b[43m \u001b[49m\u001b[43mweight\u001b[49m\u001b[43m,\u001b[49m\u001b[43m \u001b[49m\u001b[43m_Reduction\u001b[49m\u001b[38;5;241;43m.\u001b[39;49m\u001b[43mget_enum\u001b[49m\u001b[43m(\u001b[49m\u001b[43mreduction\u001b[49m\u001b[43m)\u001b[49m\u001b[43m,\u001b[49m\u001b[43m \u001b[49m\u001b[43mignore_index\u001b[49m\u001b[43m,\u001b[49m\u001b[43m \u001b[49m\u001b[43mlabel_smoothing\u001b[49m\u001b[43m)\u001b[49m\n",
      "\u001b[1;31mValueError\u001b[0m: Expected input batch_size (32) to match target batch_size (228146)."
     ]
    }
   ],
   "source": [
    "F.cross_entropy(logits,Y)\n",
    "logits.shape"
   ]
  },
  {
   "cell_type": "code",
   "execution_count": 141,
   "id": "c690483e-28b2-4bb5-9b23-936f99db0a74",
   "metadata": {},
   "outputs": [],
   "source": [
    "lre = torch.linspace(-3, 0, 1000)\n",
    "lrs = 10**lre"
   ]
  },
  {
   "cell_type": "code",
   "execution_count": 158,
   "id": "deffd98a-227a-4d94-93ca-fb6c7c033b0d",
   "metadata": {},
   "outputs": [
    {
     "name": "stdout",
     "output_type": "stream",
     "text": [
      "2.242105007171631\n"
     ]
    }
   ],
   "source": [
    "lri=[]\n",
    "lossi=[]\n",
    "stepi=[]\n",
    "for i in range(30000):\n",
    "    ix = torch.randint(0, Xtr.shape[0], (32,))#added this for minibatch\n",
    "    emb=C[Xtr[ix]]\n",
    "    h=torch.tanh(emb.view(-1,30)@W1+b1)\n",
    "    logits=h@W2+b2\n",
    "    loss=F.cross_entropy(logits,Ytr[ix])\n",
    "    \n",
    "    for p in parameters:\n",
    "        p.grad=None\n",
    "    loss.backward()\n",
    "    #lr=lrs[i]\n",
    "    lr=0.01\n",
    "    for p in parameters:\n",
    "        p.data+=-lr*p.grad\n",
    "    \n",
    "    #lri.append(lre[i])\n",
    "    lossi.append(loss.log10().item())\n",
    "    stepi.append(i)\n",
    "print(loss.item())"
   ]
  },
  {
   "cell_type": "code",
   "execution_count": 159,
   "id": "bb7e826e-0cb6-4ceb-be6f-913af12a352f",
   "metadata": {},
   "outputs": [
    {
     "data": {
      "text/plain": [
       "tensor(2.3083, grad_fn=<NllLossBackward0>)"
      ]
     },
     "execution_count": 159,
     "metadata": {},
     "output_type": "execute_result"
    }
   ],
   "source": [
    "emb = C[Xdev] # (32, 3, 2)\n",
    "h = torch.tanh(emb.view(-1, 30) @ W1 + b1) # (32, 100)\n",
    "logits = h @ W2 + b2 # (32, 27)\n",
    "loss = F.cross_entropy(logits, Ydev)\n",
    "loss"
   ]
  },
  {
   "cell_type": "code",
   "execution_count": 160,
   "id": "1475c0c3-6c86-407f-9be5-a0dff7333116",
   "metadata": {},
   "outputs": [
    {
     "data": {
      "text/plain": [
       "[<matplotlib.lines.Line2D at 0x2a8dee9fa40>]"
      ]
     },
     "execution_count": 160,
     "metadata": {},
     "output_type": "execute_result"
    },
    {
     "data": {
      "image/png": "[encoded data removed]",
      "text/plain": [
       "<Figure size 640x480 with 1 Axes>"
      ]
     },
     "metadata": {},
     "output_type": "display_data"
    }
   ],
   "source": [
    "\n",
    "plt.plot(stepi, lossi)"
   ]
  },
  {
   "cell_type": "code",
   "execution_count": 161,
   "id": "260849b5-423a-42ec-ad35-54e366c56b76",
   "metadata": {},
   "outputs": [
    {
     "data": {
      "image/png": "[encoded data removed]",
      "text/plain": [
       "<Figure size 800x800 with 1 Axes>"
      ]
     },
     "metadata": {},
     "output_type": "display_data"
    }
   ],
   "source": [
    "# visualize dimensions 0 and 1 of the embedding matrix C for all characters\n",
    "plt.figure(figsize=(8,8))\n",
    "plt.scatter(C[:,0].data, C[:,1].data, s=200)\n",
    "for i in range(C.shape[0]):\n",
    "    plt.text(C[i,0].item(), C[i,1].item(), itos[i], ha=\"center\", va=\"center\", color='white')\n",
    "plt.grid('minor')"
   ]
  },
  {
   "cell_type": "code",
   "execution_count": 165,
   "id": "a9e96f3a-052a-49f7-ac23-0b3a08c9f516",
   "metadata": {},
   "outputs": [
    {
     "name": "stdout",
     "output_type": "stream",
     "text": [
      "shyunn.\n",
      "kolle.\n",
      "zes.\n",
      "yosi.\n",
      "hallya.\n",
      "shris.\n",
      "wiov.\n",
      "kamiya.\n",
      "lakyse.\n",
      "jaksy.\n",
      "gray.\n",
      "jokroy.\n",
      "hamce.\n",
      "kha.\n",
      "ter.\n",
      "kaydenaysi.\n",
      "pahlayly.\n",
      "hom.\n",
      "arhila.\n",
      "abzitrix.\n"
     ]
    }
   ],
   "source": [
    "for _ in range(20):\n",
    "    \n",
    "    out = []\n",
    "    context = [0] * block_size # initialize with all ...\n",
    "    while True:\n",
    "      emb = C[torch.tensor([context])] # (1,block_size,d)\n",
    "      h = torch.tanh(emb.view(1, -1) @ W1 + b1)\n",
    "      logits = h @ W2 + b2\n",
    "      probs = F.softmax(logits, dim=1)\n",
    "      ix = torch.multinomial(probs, num_samples=1, generator=None).item()\n",
    "      context = context[1:] + [ix]\n",
    "      out.append(ix)\n",
    "      if ix == 0:\n",
    "        break\n",
    "    \n",
    "    print(''.join(itos[i] for i in out))"
   ]
  },
  {
   "cell_type": "code",
   "execution_count": null,
   "id": "e7df7d4b-9125-45a3-9296-7c1f6e5f5d70",
   "metadata": {},
   "outputs": [],
   "source": []
  }
 ],
 "metadata": {
  "kernelspec": {
   "display_name": "Python 3 (ipykernel)",
   "language": "python",
   "name": "python3"
  },
  "language_info": {
   "codemirror_mode": {
    "name": "ipython",
    "version": 3
   },
   "file_extension": ".py",
   "mimetype": "text/x-python",
   "name": "python",
   "nbconvert_exporter": "python",
   "pygments_lexer": "ipython3",
   "version": "3.12.0"
  }
 },
 "nbformat": 4,
 "nbformat_minor": 5
}
