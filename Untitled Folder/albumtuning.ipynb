{
 "cells": [
  {
   "cell_type": "code",
   "execution_count": 7,
   "id": "65d9f82d-c959-4862-afe9-324456f7d269",
   "metadata": {},
   "outputs": [],
   "source": [
    "from datasets import load_dataset\n",
    "\n",
    "# Load the dataset\n",
    "ds = load_dataset(\"bigdata-pw/Pitchfork\", split=\"train\")\n",
    "\n",
    "# Split the dataset into 80% train and 20% test\n",
    "train_test_split = ds.train_test_split(test_size=0.2)\n",
    "\n",
    "train_ds = train_test_split['train']\n",
    "test_ds = train_test_split['test']"
   ]
  },
  {
   "cell_type": "code",
   "execution_count": 20,
   "id": "c6ad9445-b529-41fb-ae13-917f317d6765",
   "metadata": {},
   "outputs": [
    {
     "name": "stdout",
     "output_type": "stream",
     "text": [
      "{'alternativeHeadline': ['Each Sunday, Pitchfork takes an in-depth look at a significant album from the past, and any record not in our archives is eligible. Today, we explore the solitary sound of the incomparable Nebraska.', 'The debut album from the meteoric pop star lives in a world of its own: gothic, bass-heavy, at turns daring and quite beautiful.', 'The double-disc second album from all nine rappers can feel bloated and disjointed, but it is also the greatest distillation of the Wu at their most chaotic and functional.', \"Tied to a film-related renewed interest in the band, Joy Division's three formative, formidable works get cleaned up and reissued in deluxe form.\", 'The Texas singer uses experimental vocal collages set against actual Lynchian backdrops to create a uniquely off-kilter kind of evanescence.'], 'description': ['Each Sunday, Pitchfork takes an in-depth look at a significant album from the past, and any record not in our archives is eligible. Today, we explore the solitary sound of the incomparable Nebraska.', 'The debut album from the meteoric pop star lives in a world of its own: gothic, bass-heavy, at turns daring and quite beautiful.', 'The double-disc second album from all nine rappers can feel bloated and disjointed, but it is also the greatest distillation of the Wu at their most chaotic and functional.', \"Tied to a film-related renewed interest in the band, Joy Division's three formative, formidable works get cleaned up and reissued in deluxe form.\", 'The Texas singer uses experimental vocal collages set against actual Lynchian backdrops to create a uniquely off-kilter kind of evanescence.'], 'itemReviewed': ['Bruce Springsteen: Nebraska', 'Billie Eilish: When We All Fall Asleep, Where Do We Go?', 'Wu-Tang Clan: Wu-Tang Forever', 'Joy Division: Unknown Pleasures / Closer / Still', 'Chrystabell / David Lynch: Cellophane Memories'], 'url': ['https://pitchfork.com/reviews/albums/bruce-springsteen-nebraska/', 'https://pitchfork.com/reviews/albums/billie-eilish-when-we-all-fall-asleep-where-do-we-go/', 'https://pitchfork.com/reviews/albums/wu-tang-clan-wu-tang-forever/', 'https://pitchfork.com/reviews/albums/11624-unknown-pleasurescloserstill/', 'https://pitchfork.com/reviews/albums/chrystabell-david-lynch-cellophane-memories/'], 'headline': ['Nebraska', 'When We All Fall Asleep, Where Do We Go?', 'Wu-Tang Forever', 'Unknown Pleasures / Closer / Still', 'Cellophane Memories'], 'reviewBody': [\"Bruce Springsteen’s 1982 solo album Nebraska has been called a folk album, and that’s true to an extent in both its acoustic setting and, on some of the material, in the construction of the songs. But folk songs in the traditional sense are in part defined by how they travel through culture, typically by being played in person for other people. Nebraska invites no such feeling of communion. These songs aren’t part of a shared language that people in a room might speak to each other, they are one-way transmissions from a distant, lonely place. But the signals that come through on Nebraska crackle with electricity—sometimes it’s just a hum, and sometimes it seems like a circuit is going to explode.\\nIn early 1982, Bruce Springsteen was living in a rented house in Colts Neck, New Jersey, recuperating from a year-long tour following his 1980 double album The River. His band played 140 marathon shows and were on their way to becoming one of the biggest rock acts in the world. During this period, Springsteen tasked his guitar tech, Mike Batlan, with buying a simple tape recorder so that he could tinker with some new songs and arrangements without having to bother with renting studio time. Batlan picked up a Teac Tascam 144 Portastudio, a then-new device that was the first piece of equipment to use a standard cassette tape for multi-track recording. The new machine arrived in Springsteen’s life at the perfect moment, during what was arguably the most fruitful songwriting period in Springsteen’s long career, one that would produce enough material for two albums (1982’s Nebraska and 1984’s Born in the U.S.A.) with dozens of additional songs to spare. On it, he would craft what is still the most singular album in his catalog.\\nNebraska remains an outlier for Springsteen, a record that sits uneasily in his discography. Instead of making an impact upon release, Nebraska has been accruing weight gradually over the last four decades, becoming a marker of its socioeconomic era as well as an early document of the later home-recording revolution. It stands alone partly because Springsteen didn’t tour behind it—his work is ultimately about his connection to his audience, and that connection is felt most intensely when he’s performing onstage—and partly because the record itself is kind of an accident, something that fell into place before Springsteen knew what to do with it. “I had no conscious political agenda or social theme,” he later wrote of this time in his autobiography, Born to Run. “I was after a feeling, a tone that felt like the world I’d known and still carried inside me.”\\nSpringsteen’s initial burst of material in Colts Neck clustered around isolation and disillusionment. There were connections to his earlier work in these new songs—two tracks on The River, “Stolen Car” and “Wreck on the Highway,” conveyed a similar feeling of despair—but the new work was different. Springsteen seemed both emotionally closer to his characters but also less interested in judging them. These songs had no heroes and no villains, everyone in them was making their way with what they were given, every grim or brutal scene had its own context and its own internal logic.\\nEarly in his career, Springsteen’s work thrived on personal instinct, but in isolation, it became more reliant on specific inputs. He’d transform ideas he discovered in books and films and the news into frameworks for songs: the short stories of Flannery O’Connor, which detailed the harsh lives of people living on the margins; Ron Kovick’s Born on the Fourth of July, in which a gung-ho soldier becomes deeply scarred by the actions of his government. At some point, he saw Terrence Malick’s Badlands on television, a film based on the 1957–58 killing spree of Charlie Starkweather. The Starkweather murders were meaningless, and the randomness of that violence and inability to explain it fit with the mood of Springsteen’s songwriting.\\nOnce the new songs recorded on the Portastudio began to gel, Springsteen selected some of his favorites, ran his simple arrangements through a Gibson Echoplex unit to add some reverb and echo, and mixed them down to a boombox he had laying around the house. He sent the tape to his manager, Jon Landau, with handwritten notes on the songs and ideas for how they might find their way on to a new record. Springsteen’s letter to Landau, reproduced in his book of lyrics, Songs, suggests that the album that was emerging was mysterious even to its creator. “I got a lot of ideas but I'm not exactly sure of where I'm going,” he wrote. He didn’t quite understand what he had, but he did feel he was entering new territory with his work.\\nSpringsteen carried around the cassette in his pocket as he tried to figure out what to do with his new collection of songs. The initial assumption was that his E Street compatriots would flesh them out. There were recording dates with the full band who tried to give the pieces life like they had so many other songs Springsteen had written on his own. And when that didn’t work, there were sessions of Springsteen alone, trying to capture the stark feel of the original tape in a professional studio with proper fidelity. Springsteen never could recapture the atmosphere that imbued the demos; eventually, the choice was made to put it out as-is.\\nThe power of Nebraska’s whole comes from Springsteen’s blend of fiction and memoir—some songs are personal and intimate with details drawn from Springsteen’s own life, others are the stuff of novels and cinema. “Nebraska” was Springsteen's re-telling of the Starkweather saga, and it begins, as the film does, with a shot of a young girl twirling her baton outside her house. From the innocence of this image—boy meets girl in the heartland—the song moves quickly and seamlessly to the narrator’s description of the killing spree. The fact that we’re living in a world where these things can coexist in such proximity is terrifying, and it suggests that the symbols and structures that we think exist to protect us may, in the end, offer us nothing.\\nThe album’s violence continues. “Johnny 99” describes an act of murder that is the product of blinding desperation; in “Highway Patrolman,” a cop protects his violent brother even though doing so goes against everything he believes. “Atlantic City,” the only song released as a single, is a masterpiece of withheld information, a story of an out-of-luck character who is about to perform an unnamed act that he hopes will rescue his life from oblivion. Springsteen never personally experienced these scenes, but he renders them with such care and detail, he puts the listener squarely in the center of them.\\nIn contrast, “Used Cars,” “My Father’s House,” and “Mansion on the Hill” draw from Springsteen’s past, particularly his complicated relationship with his father. “Used Cars” and “Mansion on the Hill” are written as memories and “My Father’s House” is told as a dream. But all are permeated by a deep yearning for connection, a wish that the unexpressed could be finally be spoken, and that barriers erected over a lifetime could dissolve. In the world of this record, these are the small and quiet tragedies that can nudge you down a path leading to larger and more explosive ones.\\nOn paper, this is Springsteen at his most novelistic, trying to get into the heads of murderers and corrupt cops, or diaristic, revisiting detailed scenes from his childhood. One writer even turned the songs’ narratives into a book of short stories. But the record’s most lasting power comes not from its words or melodies but from its sound. The atmosphere in the room and the grain of Springsteen’s processed voice scramble notions of a fixed time and place. To put on Nebraska and hear its world of echo is to enter a dream. As Bruce Springsteen songs go, these are very good ones, but their true meaning came out in the presentation.\\nNebraska is above all a sonic experience, which explains why he could never get the songs right in a proper studio. “A lot of its content was in its style, in the treatment of it,” he said in an interview in 1984. “It needed that really kinda austere, echoey sound, just one guitar—one guy telling his story.”\\nThe atmospheric processing on Nebraska, the vast majority of which was imparted by the Echoplex during the mixdown stage, is crucial to the album’s meaning. The slapback echo present on some of the songs conjure early rockabilly (the technique, which thickens sound by folding a slight delay onto the signal, was pioneered by Sam Phillips at Sun Studio and can be heard in all its glory on the sides Elvis Presley recorded there), and the heavy dose of reverb has been present in all kinds of music, from Bobby Vinton’s “Blue Velvet” to any number of country hits. But rather than invoking a certain era, genre, or style, the sound of Nebraska brings to mind the radio, the medium through which these techniques were first widely distributed.\\nThe right amount of reverb and echo can make a cheap speaker in a car’s dashboard sound lush and dreamy. Nebraska’s homespun production reinforces the notion that recorded music happens across vast amounts of time and space. The guy playing and singing alone in this rented room in 1982 is connected to the person hearing it by invisible forces moving through the air. That separation, underscored by the arrangements, give the album its force.\\nA few songs on the record contain references to transmissions, and these people often find themselves connected to each other in the most distant ways, often by wireless. Roads are littered with radio relay towers, radios in dark cars are choked with talk shows, a cop is called to action by the crackle of the radio. “State Trooper,” a song directly influenced by “Frankie Teardrop” by the synth-punk band Suicide, is Nebraska’s atmosphere reduced to its essence, just an ominous repeating guitar and a voice that sounds like a howling ghost. A Springsteen song like “Darkness on the Edge of Town” shares thematic elements with the songs on Nebraska, but the quiet/loud motif is designed for the stage, where Springsteen and his listeners could share in the energy. “State Trooper” might as well be beamed in from an orbiting satellite—there’s the song and then there is silence.\\n“State Trooper” also illustrates how the automobile, central to Springsteen’s work throughout his career, functions a bit differently on Nebraska. On Born to Run, the car represented escape, while on Darkness on the Edge of Town and parts of The River it was used to define boundaries, to mark the places where the dramas of life unfold. On Nebraska, the automobile is a kind of isolation chamber, a steel husk that keeps its passengers apart from the world. “Used Cars,” a comparatively gentle song inspired by Springsteen’s own life, finds a child experiencing the shame of class difference. The family is each inhabiting their own world, the father and son unable to connect and share with each other what they might be feeling in the moment. The boy knows only by what he sees, not what his father tells him; the father, consumed with his own shame, has no sense of the boy’s experiences.\\nSpringsteen wrote that he wanted Nebraska to consist of “black bedtime stories,” and the album almost seems to take place during one long night. Those who have jobs are working the night shift. Coming as it does at the end of the album, “Reason to Believe” feels a bit like a sunrise. Suddenly there’s a crack of light, a bit of humor; we can take a breath. The levity comes not from the details of the song, which include two shattered relationships and the death of a dog and a relative, but from the perspective of the person telling the story. Perhaps life, rather than being grim and hopeless, is merely absurd.\\nIn the arc of Springsteen’s career, Nebraska is still a blip. It’s an essential record in the history of home recording, but it was sort of a cul-de-sac for Springsteen himself. He has returned twice to the general format of the record, releasing the mostly solo and mostly acoustic albums The Ghost of Tom Joad (1995) and Devils & Dust (2005), but neither comes close to the alchemy of Nebraska. This one just happened. Springsteen covers the entire episode of the record in just a few pages in Born to Run, and there isn’t a lot to say. He wrote the songs, he put them down on a demo, and that demo became the record. It didn’t sell particularly well and got no airplay. “Life went on,” is how he ends the section of his book on the record. And so it does.\", 'Billie Eilish has suddenly become an obscenely famous pop star—the kind with 15 million Instagram followers, sold-out shows around the world, a haute modeling contract, and couch time with Ellen DeGeneres. Her brilliance is an obvious truth; just ask any teenager in America as they wait patiently for the rest of the world to catch up to their consummate taste in pop music.\\nOf course, the 17-year-old Eilish is still waiting for her teeth to straighten out. This fact trumpets the arrival of her debut album, When We All Fall Asleep, Where Do We Go?: For its intro, Eilish removes her much-loathed transparent braces in a series of lightly gross, ASMR-worthy slurps, and proclaims, “I have taken out my Invisalign, and this is the album.” She then dissolves into heaving cackles, the kind that alienates any onlookers too prissy to partake. There are several more oddball moments like this—absent-minded humming to a track, giggling asides—that remind us she’s still a precocious, creative teen girl on this rocket, and all her gothic proclivities don’t cancel out how much she’s enjoying the ride.\\nHer rise has been striking: At 14, she put the song “Ocean Eyes” on SoundCloud, a glassy, straightforward ballad with tearful synths and woozy, Lana Del Rey–indebted crooning. She snared a young fanbase with her hooks and raised her middle finger to pop’s status quo; here was this music that shifted between genres—from pop to trap and EDM—made by a lawless young female singer sporting baggy, androgynous clothes. She cast her bored, listless eyes upward instead of batting them at the camera. She filled her videos with flowing black tears, plunging needles, and arachnid hors d’oeuvres instead of twirling around sleek cityscapes. Eilish’s creepy eccentricity feels so removed from the pop formula; it helps distance her from the music industry’s historically lewd maceration of teen idols. Eilish just seems sharper, meaner, more self-sufficient—a young star from Los Angeles, in the grand tradition, but one that could only have come along while its hills are burning.\\nThe best moments of When We All Fall Asleep play firmly into this formula. Inspired by Eilish’s frequent night terrors and lucid dreams, the album juggles dark compulsions with grim eulogies, balancing her feathery vocals with deep, grisly bass. Like her spirit animal, the spider, Eilish can weave something that is at once delicate and grotesque: In “You Should See Me in a Crown,” she lulls the listener into a false idyll with her murmured lilt, then leaps off the cliff of a tectonic dubstep bass drop, her sneer fully audible. (That the title is cribbed from Moriarty, the beguiling psychopath of television’s Sherlock, also speaks to her pull toward the sinister.)\\n“Xanny” plumbs sincere anxiety over more marrow-shaking bass, the kind that could blast apart a few pairs of headphones. Eilish’s voice crossfades over the narcoleptic beat, and slips into full despair, whimpering her most self-aware lines on the record: “Please don’t try to kiss me on the sidewalk/On your cigarette break/I can’t afford to love someone/Who isn’t dying by mistake in Silver Lake.” Eilish’s lyrics wonderfully underscore how all teen angst is both fiercely sincere and an affect of being only partially informed.\\nA similar spirit drives “Bury a Friend,” another early single. Despite the vocoder-style distortion, Eilish’s voice feels even more intimate as she hisses, “Step on the glass, staple your tongue” in a farcical singsong. Eilish has namechecked Tyler, the Creator as one of her greatest influences; in her slightly jazzy trill, too, she also nods to her clearest pop progenitor, Lorde, who cleared much of Eilish’s path with her autonomous creative control, heavy-lidded social observations, and blithely goth aura.\\nStill, all Eilish’s weaponry can’t stop her most overtly pop track, “Bad Guy,” from going stale. A snappy pulse launches Eilish into a litany of taunts against her partner. Over the rubbery electro beat, she says she’s the “make-your-girlfriend-mad type/Might-seduce-your-dad type.” It gave me pause because it suggests that perhaps Eilish isn’t so far removed from the teen pop continuum as we’ve come to believe: How different is her bragging about statutory rape, culturally, from trussing up 16-year-old Britney Spears in pigtails and plaid? Even if it’s a teen girl’s decision, entirely, to flaunt her sexuality (or engage in provocative role-play), the line crosses a boundary plenty of adults were happy to cosign.\\nThe quieter moments of When We Fall Asleep nod more to Eilish’s past, and to mixed results. Much like her first EP, 2017’s Don’t Smile at Me, they skew glum instead of macabre, even briefly twee. “Wish You Were Gay” spotlights Eilish’s vocals, which deserved better than being spackled with canned studio laughter and self-involved lyrics in the lamentable lineage of Katy Perry’s “Ur So Gay.” Minimalist, mournful piano ballads like “Listen Before I Go” and “When the Party’s Over” further prove her vocal talents amid larger inertia. Throw in a cheeky, extended riff on an episode of The Office on “My Strange Addiction”—which smatters in clips of the Dunder Mifflin crew reacting to Michael Scott’s own contentious creative efforts—and you have an album as widely collagist as a teen’s bedroom wall.', 'In the summer of 1997, the Wu-Tang Clan were in the midst of their mafia movie montage—you know, when life is sweet and it seems like it’s always going to be that way. That summer, the nine Staten Island goons went on tour with one of the premier rock bands on Earth, Rage Against the Machine, blowing cash and sipping champagne on airplanes. They got a $960,000 budget for the special effects-ladened music video for “Triumph,” the famous, reckless, hookless posse cut. And at Giants Stadium in New Jersey, the Wu headlined Hot 97’s Summer Jam, when the station was still a king-maker. Yet instead of kissing the ring, the Wu flipped them off.\\n“Fuck Hot 97, we listen to Kiss FM!” is what Ghostface Killah yelled out to the crowd that night, annoyed at sound issues. He followed that uppercut with a haymaker, a flip on the station’s slogan—“Hot 97, where hip-hop dies!”— and eventually got the audience to chant along. Meanwhile, Method Man flung a battery at DJ Big Dennis Rivera and Funkmaster Flex backstage. For years after, the station shut the Wu out, refusing to spin their records as a group or solo. That would eventually hurt them, but at that moment, the Wu didn’t need the rap world—they had created their own.\\nThe party records, big-money samples, and sleek R&B hooks of the Bad Boy shiny suit era were on the horizon, but in the years before the summer of ’97, the Wu went on a storybook run unlike any other group in rap history. From their instant classic 1993 debut Enter the Wu-Tang (36 Chambers) to a string of five solo albums between 1994 and 1996, a raucous crew of forgotten borough rap purists had become mega-stars.\\nBy 1997, the world of the Wu was as deep and insular as professional wrestling. They fully established their own mythology and language: lingo remixed from Park Hill and Stapleton projects in Staten Island, an endless pool of aliases, nearly indecipherable inside references, and lyrics lined with allusions to kung fu flicks, Five-Percenter ideology, and ultra-specific New York City geography. That June, the group reunited for the 36 Chambers follow-up Wu-Tang Forever, with “Triumph” as the lead single. The sprawling, gloriously messy, double-disc album makes no concessions. It’s almost two hours of bars dunked in the Fresh Kills Landfill, dense wordplay, twisted humor that blurs the line between reality and fantasies told on the corner, and RZA’s unrelentingly dark production with a polished spin. Naturally they dethroned the Spice Girls for the No. 1 album in America, reaching the peak of their popularity as a collective.\\nOn Forever, nobody can tell the Wu-Tang Clan shit. Part of the appeal is that they’re completely high on their own success. While 36 Chambers is a masterpiece—the raw energy of the raps is kinetic and RZA’s soul samples crackle like burning wood—it’s so air-tight that it doesn’t feel like the truest Wu-Tang experience. The Wu-Tang Clan are messy; if there’s a rule they’re going to break it, just because. Yes, Wu-Tang Forever is bloated and disjointed, but also the greatest distillation of the Wu at their most chaotic and functional. That it was made in such a contentious and uninspired environment is not completely unsurprising, given how goosed-up their egos were.\\nWhen Raekwon reflects on the writing of his 1995 mafioso rap epic Only Built 4 Cuban Linx he tells it like it was an Eat, Pray, Love-style excursion of self-discovery. Holed up for weeks in Barbados and then Miami with his spiritual confidant Ghostface, the pair wrote relentlessly, motivated by the warmth, ocean breeze, and a bond built over John Woo heroic bloodshed pictures and Wallabees.\\nThe making of Wu-Tang Forever was far more clinical, as if they were clocking in after putting in their two weeks’ notice. A divide had grown between the members of the group who got the opportunity to release solo albums (Rae, Ghost, Dirty, Meth, and GZA) and those who didn’t (Deck, Masta Killa, and U-God). In an effort to reawaken their former camaraderie, RZA, the architect of their vision, brought everyone to L.A. to stay in separate rooms at one big apartment complex. That was no Barbados. A flame was not ignited; hardly anyone hung out with each other, most guys showed up hours late to sessions, and usually Ol’ Dirty Bastard disappeared altogether.\\nIn the meantime, tensions flared over who was in control of the Wu brand, mostly directed at their manager and RZA’s older brother Divine. The more popular members felt the money was being divided up unfairly, and not everyone was psyched about the affiliate crews like Killarmy that RZA was stamping with the Wu logo. These frustrations boiled over in frequent arguments and a diminishing trust in RZA’s iron-clad grip on the sound.\\nGiven the unrest, it’s a miracle that the rapping on Forever is so exciting. When they rap the brotherhood is alive, even if the friendships aren’t. It might be because of RZA’s magic on the backend, stitching together loose threads as only he can. It might be because pretty much everyone was a more skilled rapper than they were four years earlier. But I like to believe that it’s in tune with the Hong Kong action movies they worshiped. In those films sometimes blood and non-blood brothers engage in a sword duel or point handguns at each other’s faces, but when they finally team up, the connection is almost mystical.\\nThough the album has the runtime of a movie, it’s the brief moments that reestablish their one-of-a-kind chemistry. On “Deadly Melody,” when GZA so smoothly interrupts Masta Killa and U-God for two lines of his evocative imagery: “Fifty caliber street sweeper/Shots from Shaolin that go to Massapequa.” How Method Man floats in the background of Raekwon’s intensely delivered street politics on “Cash Still Rules/Scary Hours,” before brightening the mood with his smooth singsongy gibberish. How tonally connected Dirty and honorary tenth member Cappadonna are on “Maria”: Dirty howls wistfully about this fine woman who gave him gonorrhea and Capp reveals he has the pick-up game of Michael Cera in Superbad. It’s ridiculous as hell.\\n“Maria” goes off the rails because of a RZA verse tacked on at the end, where he sounds bitter about being dumped or something. RZA does that a lot. There is probably too much of him on Forever, a sign of how much control he had, but the way he raps every line as if it could change your life is magnetic, even when it’s not as deep as he thinks. He’s so engaging that even when he parts the seas so he can monologue for a couple of minutes, it’s mesmerizing. “Yo this is true hip-hop you listenin’ to right here/In the pure form, this ain’t no R&B with a wack nigga takin the loop,” he says on the intro to disc 2, so convincing that he probably could have made C. Delores Tucker believe in the magic of hip-hop for a split second.\\nOn the production tip, RZA’s beats still have this grimy soul to them, but lag behind much of his other work during this peak period. Slowly he was moving away from samples and stripping back his sound, going for a more cinematic style; unsurprisingly, two years later he composed his first film score. He splits the difference comfortably on the first disc, his stronger side: the funk of “As High as Wu-Tang Get,” the slight distortion on the sample of “For Heavens Sake,” the forceful piano on “Severe Punishment” feels like it could soundtrack a chase scene in a Blaxploitation thriller. As for the second disc, the bloat of the more than a hour runtime is only an issue because the production isn’t urgent enough. There are lulls that ruin the groove, like the plodding sound of “Little Ghetto Boys” and 4th Disciple’s drab backdrop of “The City,” which is nowhere nearly as colorful as Inspectah Deck’s rhymes.\\nIn the mid-1990s, there were two floods in RZA’s basement where it was said he lost more than 500 beats. But the most substantial loss was Inspectah Deck’s debut album. He would start again from scratch, and after some label nonsense, his redone debut eventually hit stands in 1999. It’s aight. But that lost album made during RZA’s creative apex has become mythical. Its status is only boosted by how his dazzling wordplay and buttery delivery stands out among larger personalities throughout Forever. “Yo, in the housing, thousands seen early graves/Victims of worldly ways, memories stays engraved,” Deck opens on “A Better Tomorrow.” His words are slick, but without sacrificing the scene setting that captures it all like a drone shot. Then there’s his star turn on “Triumph”: The song is kinetic throughout its nearly six-minute runtime despite contributions from the whole crew, and Deck’s thickly layered yet clear-eyed opening verses rises above the rest. It’s like watching Kyrie Irving dribble in slow motion.\\n“Triumph” closes with the one-two punch of Ghostface and Raekwon, who are on some shit on Forever. Coming off the combination of 1995’s Cuban Linx and 1996’s Ironman—Ghost was a couple years away from reaching rarified air with Supreme Clientele—it’s like they believe all of their words should be enshrined. I wouldn’t say that’s always true—Ghost’s sex chronicles on “The Projects” could have stayed in his journal and Rae nosedives his “Duck Seazon” verse with homophobia. But for the most part, their writing is full of so much imagination and detail that on posse cuts it’s hard to pay attention to the verses that come before or after them. Sorry to Masta Killa, but his solid mathematics-driven words are overshadowed by the mystifying Rae verse on “Visionz.” And Method Man’s voice owns “Cash Still Rules/Scary Hours,” but only until Ghostface struts in reminiscing about robberies with a glimmer in his eye like he’s talking about his Little League memories.\\nWhen Ghost and Rae have the Wu around the firepit telling stories that may or not be truth, Forever doesn’t get much better than that. There is “Impossible,” which is a heavy-hearted Ghost chronicle so vivid that it feels like the framework for a memoir. The mood is a lot lighter on Ghost and Rae’s concept track “The M.G.M.” about attending a boxing match between Julio César Chávez and Pernell “Sweet Pea” Whitaker. They finish each other’s lines, have a conversation about The Supreme Wisdom, and spot celebrities, all while moving the story along with lines that never stop the groove. It’s like they’re Statler and Waldorf, high on dust.\\nThe big disappointment of Forever is Dirty. He’s funny on “Maria” and his intro to “Triumph” is iconic, but he’s largely an afterthought. This was around the time when his reliance on drugs and alcohol was getting worse, and his communication with the Wu suffered. He feels detached from the group, and his half-assed solo track, “Dog Shit,” has none of the natural charisma of his 1995 debut.\\n“Dog Shit” is the nadir of the second disc, which is overstuffed with solo tracks nobody ever asked for (Tekitha?!), sketches, and B-tier posse cuts, but it’s that excess that gives the album so much of its personality. On a more concise album, Ghost and Rae wouldn’t have gotten a chance to clear out for a couple of minutes of paranoid crime fiction. An editor may have told Deck to save his solo spotlight for his debut. A rational group would have told U-God to keep “Black Shampoo,” his borderline soft porno ode to massages with peppermint oil and fragrances in the drafts. But they probably didn’t even think twice about it. They were the Wu-Tang Clan and if they said it it was hot. That’s amazing; you couldn’t tell them shit.\\nSoon after, their invincibility wore off, and their slow plateauing was mostly self-inflicted. By the time they reunited for 2000’s The W, which still features lots of great rapping, the group was even more fractured as faith diminished in RZA’s ability as a producer. Meanwhile, the lack of financial transparency created a rift that would never be properly mended. When the 2010s came around, Raekwon was communicating with the group through representatives and RZA was bleeding the Wu brand dry with gimmicks like 2015’s Once Upon a Time in Shaolin: A stitched together full-length with pre-recorded Wu verses that were pressed onto one copy, put into a custom silver box, and auctioned for $2 million to infamous pharma dude Martin Shkreli.\\nBut if it had all gone smoothly, that wouldn’t have been the Wu-Tang Clan. Humility be damned; keep that shit elsewhere! Forever is the Wu-Tang Clan spitting their asses off. They wholeheartedly believed they were the most important artists in the world; for a moment it was nearly true, and they did it without giving an inch to the music industry, no matter how powerful. RZA wasn’t lying. Wu-Tang Forever is hip-hop in its purest form, for real.', 'Rock history is jammed with messy, stupid, and tragic ends to promising starts-- plane crashes, overdoses, gunshots-- but Ian Curtis\\' death is still striking. Sometime early on the morning of May 18, 1980, Ian Curtis, at the age of 23, watched Werner Herzog\\'s Stroszek, played Iggy Pop\\'s The Idiot, and hung himself in the kitchen.\\nIt\\'s easy to say, in retrospect, that people should have seen it coming. His marriage was falling apart, his epilesy was worsening, and at their most uplifting, his band\\'s lyrics set new benchmarks for melodrama, paranoia, and depression. \"This is the way, step inside,\" intones Curtis at the start of the group\\'s posthumous sophomore release Closer, an album title whose double meaning imparts almost as much menace as the fact that Curtis already sounds like he\\'s singing from beyond the grave on the sepulchral lead track \"Atrocity Exhibition\".\\nOn the other hand, Joy Division\\'s popularity was on the rise. The group was about to embark on a U.S. tour with the Buzzcocks. A month after Curtis\\' death, \"Love Will Tear Us Apart\" would become the group\\'s first hit. And unlike such dead-before-their-time predecessors as Nick Drake and Chris Bell, Ian Curtis was a bona fide star in the making whose impact was already being felt throughout the underground, and whose presence was being picked up on by such prescient mimics as Bono. ( \"A Day Without Me\", a single from U2\\'s 1980 LP Boy, was allegedly inspired by Curtis\\' suicide.)\\nAnd then there\\'s the music, a conflation of tribal primitivism and sophisticated art-rock that set the template for those twin poles of post-punk. A lot of credit goes to eccentric producer Martin Hannett, and it\\'s the production-- not Curtis\\'s well-parsed words or the band\\'s suddenly ubiquitous biopic cachet-- that benefits most extensively from cleaned-up deluxe reissues of the band\\'s two utterly essential albums, Unknown Pleasures and Closer. Simply put, the group\\'s debut full-length Unknown Pleasures, released in 1979, sounds like little that came before it. At its most familiar, it vaguely approximates the cold claustrophobia of Iggy\\'s The Idiot or David Bowie\\'s Low, but from the first notes of \"Disorder\" on, the music is almost as alien as its iconic cover art.\\nIt\\'s one of the most perfect pairings of artist and producer in rock history, but that shouldn\\'t undersell the band\\'s input. Joy Division, like many of their Manchester peers, were inspired by the DIY anti-ethos of the Sex Pistols; they just didn\\'t know what to do with it at first. So, shaped and prodded by notorious provocateur Hannett (who would turn the heat in the studio down low enough for everyone to see their breath), the group embraced space, ambience, and an imposing austerity. It\\'s noteworthy how many songs on Unknown Pleasures fade in like something emerging from the shadows. It\\'s also worth noting how heavy songs such as \"Day of the Lords\", \"New Dawn Fades\", \"Shadowplay\", and \"Interzone\" are, while sinewy anthem \"Disorder\" and the discordant anti-funk of \"She\\'s Lost Control\" are glorious anomalies in both their precision and concision.\\nCloser is even more austere, more claustrophobic, more inventive, more beautiful, and more haunting than its predecessor. It\\'s also Joy Division\\'s start-to-finish masterpiece, a flawless encapsulation of everything the group sought to achieve. The hypnotically abrasive \"Atrocity Exhibition\" leads to the relentless yet somehow still economical \"Isolation\", the group more capable in its playing and confident in the arrangements. The dirge \"Passover\" implies that the band is every bit aware of its morbid power, while \"Colony\" marks a return to the heavy riffage of Unknown Pleasures.\\nThen, after such an auspicious start, Closer really clicks into gear. \"Means to an End\" is death disco before the fact, buoyed by a surprisingly rousing (and wordless) chorus. \"Heart and Soul\" is a remarkable collision of atmosphere and minimalism, the stuttering drum beat, synth and Peter Hook\\'s melodic bass lead linked to one of Curtis\\' most subdued performances. \"Heart and soul,\" he sings, as the stark instruments intertwine and twist together. \"One will burn.\"\\n\"Twenty Four Hours\" briefly tries to pry free from the album\\'s looming inevitability before \"The Eternal\" and \"Decades\" draw the music back down and the listener back in to Curtis\\' world. \"The Eternal\" is the bleakest thing the band ever recorded, and if \"Decades\" comes off a relative respite in comparison, the lyrics quickly quash that idea. \"We knocked on the doors of Hell\\'s darker chamber,\" moans Curtis. \"Pushed to the limit, we dragged ourselves in.\"\\nThe re-release of the collection Still is a little more frustrating, especially considering the singles collection Substance-- the only single disc on which you can find \"Love Will Tear Us Apart\", \"Atmosphere\", \"Transmission\", as well as several early tracks, some of Joy Division\\'s most beautiful and brutal work-- is not included in this slate of reissues. (Perhaps the assumption is that older fans already have the awesomely comprehensive Heart and Soul box.) Still, originally released in 1981, a month before the surviving Joy Division members issued their first New Order album, Movement, is a ragged, enigmatic coda, an uneven odds-and-ends collection of lost tracks that fills in some gaps in Joy Division\\'s history and legacy. Yet for a band that recorded so little, it\\'s hard to quibble with the availability of more, especially when that means such songs as the actually uptempo \"Ice Age\", \"The Kill\", \"Glass\" (B-side to \"Digital\"), the metallic \"The Sound of Music\", and the immortal \"Dead Souls\".\\nThe rest of Still is Joy Division live, for better and for worse-- captured mostly at the group\\'s final appearance in Birmingham High Hall. Most notable is the presence of \"Ceremony\", eventually issued as New Order\\'s first single. As tempting as it may be to project parallels with Joy Division\\'s near-future incarnation as New Order, they\\'re really not there, at least not beyond the most vague and nascent of stylistic precursors. As the band progresses, more synths make their way into the soundscape, and Peter Hook\\'s bass creeps higher and higher, but there\\'s otherwise little from Joy Division that ports over to New Order (though in a pinch, \"Decades\", which concludes Closer, could be the missing link between Power, Corruption and Lies and a track like \"Elegia\" from Low-Life).\\nIn true \"deluxe\" fashion, each of these reissues is packaged with live disc that, while hardly pristine recordings, serve an important purpose. In fact, the furious sets documented-- 7/13/79, 2/8/80, 2/20/80-- prove that, free from the constraints but also the polish of the studio, Joy Division could be a decidedly aggressive beast. In these recordings, their chilly veneer melted away with visceral guitar slashing, Hook\\'s no-nonsense bass, and Stephen Morris\\' spastic drums. The group also proves itself ruthlessly effective despite the conspicuous lack of proficiency. In the studio, Joy Division and Hannett could meticulously craft the album, note by note. Live and unleashed, they were undeniably powerful-- especially Curtis, whose Mancunian Jim Morrison croon fills each respective hall with foreboding-- but also pretty sloppy (it\\'s no wonder the surviving members of the band later hitched themselves to drum machines and sequencers).\\nYet the live sets are vital reminders that these purveyors of almost indomitable gloom were also human. Lest one forget, these were just young men caught up in the excitement of punk. They covered \"Sister Ray\" and \"Louie Louie\". They tried out then-new songs and trotted out staples for their growing legion of fans. They were making it up as they went along, and to an extent, still are. Only Curtis knows how the story really ends, and he\\'s not talking.', 'The presence of director David Lynch’s name atop the new Chrystabell album, Cellophane Memories, will attract curious ears it might not have otherwise. After a few listens, however, you may wonder less about what Lynch brought to the table, and more about why Chrystabell, a Texas-based singer, is credited just once. Cellophane Memories should be attributed not to Chrystabell but to Chrystabells, plural. The greatest virtue of this beautiful album is how it layers her voice over and over—and over—again.\\nThe opening of“With Small Animals” is a prime example of this collage effect—her vocal lines spin free from their ambiguous origin point like threads of an ever-fraying fabric. On “The Sky Falls,” the effect is more strategic, vaguely resembling a classical canon; the pacing of overlaps is ambiguous but still calculable. A synthesizer backdrop lends it an almost irritating texture, giving this seeming evanescence a uniquely off-kilter quality.\\nCellophane Memories may be pretty, but it’s not easy. On “Reflections in a Blade,” the vocal bits are harshly clipped, providing a fractured view of an uncertain whole. They flicker by, the patterning delicious, forming a jumbled mess of voices. Behind the chorus a lone synth hums, interspersed with what sounds like someone breathing through a saxophone. The majority of the songs have just an instrument or two in the background, but each selection reflects exquisite decision-making. And each production element firmly reflects Lynch’s presence.\\nAs a filmmaker, Lynch suffuses his work with sound, from the lush scores that Angelo Badalamenti provided for Twin Peaks and Mulholland Drive, to the essential presence of pop songs, like those of Roy Orbison in Blue Velvet and Chris Isaak in Wild at Heart, all the way back to the radiator drones of his debut, Eraserhead. Lynch’s sonic hallmarks are everywhere on Cellophane Memories, from the earnest treacle of Badalamenti’s backing pads (the composer died in 2022, but is spiritually present here), to the tremolo-thick guitars of Orbison and Isaak, to the haunting rumble favored in his film sound designs. There are also mechanized rhythms—bone machine beats, à la Tom Waits—that bring to mind other Lynch pop forays, most notably his work with the late Julee Cruise, who died the same year as Badalamenti.\\nChrystabell doesn’t merely sing back-up for herself: The dovetailing of her vocals means you don’t always know what’s the main line, what’s an echo, and what’s an eerie backmasked premonition. Vocally, it’s clear that Cellophane Memories owes a debt to numerous gloomy and dreamy pop concoctions of the past, like Mazzy Star, Cowboy Junkies, Kate Bush, and Nico. There’s also a strong influence of art-pop forebear David Sylvian—whose dramatic, self-correcting melodic arcs she follows as if she wrote a dissertation on the subject.\\nIt’s difficult to listen to the layered vocals on Cellophane Memories and not think of the roles that mirrors and fractured identities play in Lynch films. The layering is so persistent that it’s unclear if that consistency signals conceptual coherence or extended sameness. As a listener, I came down a little more on the latter end of that continuum—over-consistency is the album’s main, perhaps sole, demerit—but it makes up for that sameness in countless other subtle, subconscious ways.'], 'dateModified': ['2018-03-18T01:00:00.000-04:00', '2019-03-29T01:00:00.000-04:00', '2022-10-09T00:03:00.000-04:00', '2007-10-29T02:00:00.000-04:00', '2024-08-06T00:00:00.000-04:00'], 'datePublished': ['2018-03-18T01:00:00.000-04:00', '2019-03-29T01:00:00.000-04:00', '2022-10-09T00:03:00.000-04:00', '2007-10-29T02:00:00.000-04:00', '2024-08-06T00:00:00.000-04:00'], 'Genre': ['Rock', 'Pop/R&B', 'Rap', 'Rock', 'Pop/R&B / Experimental / Rock'], 'Label': ['Columbia', 'Darkroom / Interscope', 'Loud', None, 'Sacred Bones'], 'Reviewed': ['March 18, 2018', 'March 29, 2019', 'October 9, 2022', 'October 29, 2007', 'August 6, 2024'], 'score': [10.0, 7.2, 8.3, 10.0, 7.3], 'id': ['00012c3a-6a7c-4cdc-922f-69a1ee4f918e', '00034f30-e737-493a-bb30-e877bca9f023', '0003d139-5a41-434e-9f15-ea59e315ba6c', '0006c04d-e64a-431a-bdbb-eb1304e6cd42', '0006dd8c-2a16-493b-aba4-e9d772b0125a'], 'author_name': ['Mark Richardson', 'Stacey Anderson', 'Alphonse Pierre', 'Joshua Klein', 'Marc Weidenbaum '], 'author_url': ['https://pitchfork.com/staff/mark-richardson/', 'https://pitchfork.com/staff/stacey-anderson/', 'https://pitchfork.com/staff/alphonse-pierre/', 'https://pitchfork.com/staff/joshua-klein/', 'https://pitchfork.com/staff/marc-weidenbaum /'], 'thumbnailUrl': ['https://media.pitchfork.com/photos/5aabf0b32a8c3241f4126175/1:1/w_800,h_800,c_limit/Nebraska.jpg', 'https://media.pitchfork.com/photos/65f9e40316c62f3e7a54ad0e/2:3/w_2000,h_3000,c_limit/Billie-Eilish.jpg', 'https://media.pitchfork.com/photos/633c64bf429633303bba3607/3:2/w_600,h_400,c_limit/Wu-Tang%20Clan%20-%20Wu-Tang%20Forever.jpeg', None, 'https://media.pitchfork.com/photos/665f23d6346b1b958065ff76/2:3/w_1200,h_1800,c_limit/Chrystabell-David-Lynch-Cellophane-Memories.jpg']}\n"
     ]
    }
   ],
   "source": [
    "print(ds[0:5])"
   ]
  },
  {
   "cell_type": "code",
   "execution_count": 40,
   "id": "c4c0d33c-e698-4ae7-baac-5bd6542e0095",
   "metadata": {},
   "outputs": [
    {
     "name": "stdout",
     "output_type": "stream",
     "text": [
      "                                      title  \\\n",
      "0                                  Nebraska   \n",
      "1  When We All Fall Asleep, Where Do We Go?   \n",
      "2                           Wu-Tang Forever   \n",
      "3        Unknown Pleasures / Closer / Still   \n",
      "4                       Cellophane Memories   \n",
      "\n",
      "                                         description  \\\n",
      "0  Bruce Springsteen’s 1982 solo album Nebraska h...   \n",
      "1  Billie Eilish has suddenly become an obscenely...   \n",
      "2  In the summer of 1997, the Wu-Tang Clan were i...   \n",
      "3  Rock history is jammed with messy, stupid, and...   \n",
      "4  The presence of director David Lynch’s name at...   \n",
      "\n",
      "                                               image  \\\n",
      "0  https://media.pitchfork.com/photos/5aabf0b32a8...   \n",
      "1  https://media.pitchfork.com/photos/65f9e40316c...   \n",
      "2  https://media.pitchfork.com/photos/633c64bf429...   \n",
      "3                                               None   \n",
      "4  https://media.pitchfork.com/photos/665f23d6346...   \n",
      "\n",
      "                      author                                album_name  \n",
      "0          Bruce Springsteen                                  Nebraska  \n",
      "1              Billie Eilish  When We All Fall Asleep, Where Do We Go?  \n",
      "2               Wu-Tang Clan                           Wu-Tang Forever  \n",
      "3               Joy Division        Unknown Pleasures / Closer / Still  \n",
      "4  Chrystabell / David Lynch                       Cellophane Memories  \n"
     ]
    }
   ],
   "source": [
    "import pandas as pd\n",
    "\n",
    "# Create a DataFrame with titles, descriptions, and images\n",
    "titles_and_descriptions = pd.DataFrame({\n",
    "    'title': [item['headline'] for item in ds],\n",
    "    'description': [item['reviewBody'] for item in ds],\n",
    "    'image': [item['thumbnailUrl'] for item in ds]\n",
    "})\n",
    "\n",
    "results = [split_author_album(x) for x in ds['itemReviewed']]\n",
    "authors, album_names = zip(*results)  # Unzip the results\n",
    "\n",
    "# Create the new columns\n",
    "titles_and_descriptions['author'] = authors\n",
    "titles_and_descriptions['album_name'] = album_names\n",
    "\n",
    "# Print the first few rows of the updated DataFrame\n",
    "print(titles_and_descriptions.head())\n",
    "\n"
   ]
  },
  {
   "cell_type": "code",
   "execution_count": 41,
   "id": "f63acc5f-56e2-4c13-a513-023759e2a0f9",
   "metadata": {},
   "outputs": [],
   "source": [
    "df=titles_and_descriptions"
   ]
  },
  {
   "cell_type": "code",
   "execution_count": 42,
   "id": "f2577efc-c424-4bef-82fa-3ec2ea4245fd",
   "metadata": {},
   "outputs": [
    {
     "data": {
      "text/html": [
       "<div>\n",
       "<style scoped>\n",
       "    .dataframe tbody tr th:only-of-type {\n",
       "        vertical-align: middle;\n",
       "    }\n",
       "\n",
       "    .dataframe tbody tr th {\n",
       "        vertical-align: top;\n",
       "    }\n",
       "\n",
       "    .dataframe thead th {\n",
       "        text-align: right;\n",
       "    }\n",
       "</style>\n",
       "<table border=\"1\" class=\"dataframe\">\n",
       "  <thead>\n",
       "    <tr style=\"text-align: right;\">\n",
       "      <th></th>\n",
       "      <th>title</th>\n",
       "      <th>description</th>\n",
       "      <th>image</th>\n",
       "      <th>author</th>\n",
       "      <th>album_name</th>\n",
       "    </tr>\n",
       "  </thead>\n",
       "  <tbody>\n",
       "    <tr>\n",
       "      <th>0</th>\n",
       "      <td>Nebraska</td>\n",
       "      <td>Bruce Springsteen’s 1982 solo album Nebraska h...</td>\n",
       "      <td>https://media.pitchfork.com/photos/5aabf0b32a8...</td>\n",
       "      <td>Bruce Springsteen</td>\n",
       "      <td>Nebraska</td>\n",
       "    </tr>\n",
       "    <tr>\n",
       "      <th>1</th>\n",
       "      <td>When We All Fall Asleep, Where Do We Go?</td>\n",
       "      <td>Billie Eilish has suddenly become an obscenely...</td>\n",
       "      <td>https://media.pitchfork.com/photos/65f9e40316c...</td>\n",
       "      <td>Billie Eilish</td>\n",
       "      <td>When We All Fall Asleep, Where Do We Go?</td>\n",
       "    </tr>\n",
       "    <tr>\n",
       "      <th>2</th>\n",
       "      <td>Wu-Tang Forever</td>\n",
       "      <td>In the summer of 1997, the Wu-Tang Clan were i...</td>\n",
       "      <td>https://media.pitchfork.com/photos/633c64bf429...</td>\n",
       "      <td>Wu-Tang Clan</td>\n",
       "      <td>Wu-Tang Forever</td>\n",
       "    </tr>\n",
       "    <tr>\n",
       "      <th>3</th>\n",
       "      <td>Unknown Pleasures / Closer / Still</td>\n",
       "      <td>Rock history is jammed with messy, stupid, and...</td>\n",
       "      <td>None</td>\n",
       "      <td>Joy Division</td>\n",
       "      <td>Unknown Pleasures / Closer / Still</td>\n",
       "    </tr>\n",
       "    <tr>\n",
       "      <th>4</th>\n",
       "      <td>Cellophane Memories</td>\n",
       "      <td>The presence of director David Lynch’s name at...</td>\n",
       "      <td>https://media.pitchfork.com/photos/665f23d6346...</td>\n",
       "      <td>Chrystabell / David Lynch</td>\n",
       "      <td>Cellophane Memories</td>\n",
       "    </tr>\n",
       "  </tbody>\n",
       "</table>\n",
       "</div>"
      ],
      "text/plain": [
       "                                      title  \\\n",
       "0                                  Nebraska   \n",
       "1  When We All Fall Asleep, Where Do We Go?   \n",
       "2                           Wu-Tang Forever   \n",
       "3        Unknown Pleasures / Closer / Still   \n",
       "4                       Cellophane Memories   \n",
       "\n",
       "                                         description  \\\n",
       "0  Bruce Springsteen’s 1982 solo album Nebraska h...   \n",
       "1  Billie Eilish has suddenly become an obscenely...   \n",
       "2  In the summer of 1997, the Wu-Tang Clan were i...   \n",
       "3  Rock history is jammed with messy, stupid, and...   \n",
       "4  The presence of director David Lynch’s name at...   \n",
       "\n",
       "                                               image  \\\n",
       "0  https://media.pitchfork.com/photos/5aabf0b32a8...   \n",
       "1  https://media.pitchfork.com/photos/65f9e40316c...   \n",
       "2  https://media.pitchfork.com/photos/633c64bf429...   \n",
       "3                                               None   \n",
       "4  https://media.pitchfork.com/photos/665f23d6346...   \n",
       "\n",
       "                      author                                album_name  \n",
       "0          Bruce Springsteen                                  Nebraska  \n",
       "1              Billie Eilish  When We All Fall Asleep, Where Do We Go?  \n",
       "2               Wu-Tang Clan                           Wu-Tang Forever  \n",
       "3               Joy Division        Unknown Pleasures / Closer / Still  \n",
       "4  Chrystabell / David Lynch                       Cellophane Memories  "
      ]
     },
     "execution_count": 42,
     "metadata": {},
     "output_type": "execute_result"
    }
   ],
   "source": [
    "df.head()"
   ]
  },
  {
   "cell_type": "code",
   "execution_count": 43,
   "id": "1297bb7c-8cda-4208-a8d5-48b06636c013",
   "metadata": {},
   "outputs": [],
   "source": [
    "df['ablum_name'] = df['album_name'].str.lower()"
   ]
  },
  {
   "cell_type": "code",
   "execution_count": 44,
   "id": "21ee9b0a-3d08-42ba-876f-886b2ba92f54",
   "metadata": {},
   "outputs": [
    {
     "data": {
      "text/plain": [
       "13142"
      ]
     },
     "execution_count": 44,
     "metadata": {},
     "output_type": "execute_result"
    }
   ],
   "source": [
    "df['album_name'].nunique()"
   ]
  },
  {
   "cell_type": "code",
   "execution_count": 45,
   "id": "e62cc49b-ca6e-47d0-8bc8-4d0cacc53d28",
   "metadata": {},
   "outputs": [
    {
     "name": "stderr",
     "output_type": "stream",
     "text": [
      "The cache for model files in Transformers v4.22.0 has been updated. Migrating your old cache. This is a one-time only operation. You can interrupt this and resume the migration later on by calling `transformers.utils.move_cache()`.\n"
     ]
    },
    {
     "data": {
      "application/vnd.jupyter.widget-view+json": {
       "model_id": "2036bdff9903477fada053c9eb75f603",
       "version_major": 2,
       "version_minor": 0
      },
      "text/plain": [
       "0it [00:00, ?it/s]"
      ]
     },
     "metadata": {},
     "output_type": "display_data"
    }
   ],
   "source": [
    "import pandas as pd\n",
    "import numpy as np\n",
    "import torch\n",
    "from torch import nn\n",
    "from torch.utils.data import Dataset, DataLoader\n",
    "from transformers import (\n",
    "    BertTokenizer, \n",
    "    BertModel, \n",
    "    BertForSequenceClassification,\n",
    "    AdamW,\n",
    "    get_linear_schedule_with_warmup\n",
    ")\n",
    "from sklearn.model_selection import train_test_split\n",
    "from tqdm import tqdm"
   ]
  },
  {
   "cell_type": "code",
   "execution_count": 49,
   "id": "37c08ff3-f8d4-4887-9ae8-342c83dfb0e9",
   "metadata": {},
   "outputs": [
    {
     "name": "stdout",
     "output_type": "stream",
     "text": [
      "Using device: cuda\n",
      "Initializing recommender with your dataset...\n",
      "\n",
      "Dataset Information:\n",
      "Number of albums: 14055\n",
      "Columns: ['title', 'description', 'image', 'author', 'album_name', 'ablum_name']\n",
      "\n",
      "Computing BERT embeddings for all reviews...\n"
     ]
    },
    {
     "name": "stderr",
     "output_type": "stream",
     "text": [
      "100%|██████████████████████████████████████████████████████████████████████████████| 1757/1757 [10:02<00:00,  2.92it/s]"
     ]
    },
    {
     "name": "stdout",
     "output_type": "stream",
     "text": [
      "Ready to make recommendations!\n",
      "\n",
      "Recommended albums:\n",
      "                                           album_name\n",
      "6494                                    Life Is Yours\n",
      "13508                                        flounder\n",
      "1853   Demonstrating Visible Differences of Height EP\n",
      "11144                         Bark Your Head Off, Dog\n",
      "94                              Kindness for Weakness\n"
     ]
    },
    {
     "name": "stderr",
     "output_type": "stream",
     "text": [
      "\n"
     ]
    }
   ],
   "source": [
    "import pandas as pd\n",
    "import torch\n",
    "from transformers import BertTokenizer, BertModel\n",
    "import numpy as np\n",
    "from tqdm import tqdm\n",
    "\n",
    "class SimpleAlbumRecommender:\n",
    "    def __init__(self, model_name='bert-base-uncased'):\n",
    "        self.device = torch.device('cuda' if torch.cuda.is_available() else 'cpu')\n",
    "        print(f\"Using device: {self.device}\")\n",
    "        \n",
    "        self.tokenizer = BertTokenizer.from_pretrained(model_name)\n",
    "        self.model = BertModel.from_pretrained(model_name).to(self.device)\n",
    "        self.model.eval()\n",
    "        \n",
    "        self.df = None\n",
    "        self.embeddings = None\n",
    "    \n",
    "    def fit(self, df, review_col='description', album_col='album_name'):\n",
    "        print(\"Initializing recommender with your dataset...\")\n",
    "        self.df = df.copy()\n",
    "        \n",
    "        self.df[review_col] = self.df[review_col].astype(str).str.lower()\n",
    "        \n",
    "        print(\"\\nDataset Information:\")\n",
    "        print(f\"Number of albums: {len(self.df)}\")\n",
    "        print(f\"Columns: {self.df.columns.tolist()}\")\n",
    "        \n",
    "        print(\"\\nComputing BERT embeddings for all reviews...\")\n",
    "        self.embeddings = {}\n",
    "        \n",
    "        # Process in batches\n",
    "        batch_size = 8\n",
    "        for i in tqdm(range(0, len(self.df), batch_size)):\n",
    "            batch_reviews = self.df[review_col].iloc[i:i+batch_size].tolist()\n",
    "            \n",
    "            # Tokenize\n",
    "            encoded = self.tokenizer(\n",
    "                batch_reviews,\n",
    "                padding=True,\n",
    "                truncation=True,\n",
    "                max_length=512,\n",
    "                return_tensors='pt'\n",
    "            )\n",
    "            \n",
    "            # Get embeddings\n",
    "            with torch.no_grad():\n",
    "                input_ids = encoded['input_ids'].to(self.device)\n",
    "                attention_mask = encoded['attention_mask'].to(self.device)\n",
    "                outputs = self.model(input_ids, attention_mask)\n",
    "                batch_embeddings = outputs.last_hidden_state[:, 0, :].cpu().numpy()\n",
    "            \n",
    "            # Store embeddings\n",
    "            for j, embedding in enumerate(batch_embeddings):\n",
    "                self.embeddings[i+j] = embedding\n",
    "        \n",
    "        print(\"Ready to make recommendations!\")\n",
    "        \n",
    "    def recommend(self, text, n_recommendations=5):\n",
    "        \"\"\"Get album recommendations based on input text\"\"\"\n",
    "        if self.embeddings is None:\n",
    "            raise ValueError(\"Please fit the recommender first using .fit()\")\n",
    "            \n",
    "        # Get embedding for input text\n",
    "        encoded = self.tokenizer(\n",
    "            text,\n",
    "            padding=True,\n",
    "            truncation=True,\n",
    "            max_length=512,\n",
    "            return_tensors='pt'\n",
    "        )\n",
    "        \n",
    "        with torch.no_grad():\n",
    "            input_ids = encoded['input_ids'].to(self.device)\n",
    "            attention_mask = encoded['attention_mask'].to(self.device)\n",
    "            outputs = self.model(input_ids, attention_mask)\n",
    "            input_embedding = outputs.last_hidden_state[:, 0, :].cpu().numpy()[0]\n",
    "        \n",
    "        # Calculate similarities\n",
    "        similarities = {}\n",
    "        for idx, embedding in self.embeddings.items():\n",
    "            similarity = np.dot(input_embedding, embedding) / (\n",
    "                np.linalg.norm(input_embedding) * np.linalg.norm(embedding)\n",
    "            )\n",
    "            similarities[idx] = similarity\n",
    "        \n",
    "        # Get top recommendations\n",
    "        top_indices = sorted(similarities.keys(), \n",
    "                           key=lambda x: similarities[x], \n",
    "                           reverse=True)[:n_recommendations]\n",
    "        \n",
    "        recommendations = self.df.iloc[top_indices]\n",
    "        return recommendations\n",
    "\n",
    "\n",
    "recommender = SimpleAlbumRecommender()\n",
    "recommender.fit(df, review_col='description', album_col='album_name')\n",
    "\n",
    "# Get recommendations\n",
    "mood = \"I'm feeling sad and need something emotional\"\n",
    "recommendations = recommender.recommend(mood, n_recommendations=5)\n",
    "print(\"\\nRecommended albums:\")\n",
    "print(recommendations[['album_name']])\n"
   ]
  },
  {
   "cell_type": "code",
   "execution_count": 51,
   "id": "1b935586-fad1-4b1d-af27-d86e19c4d4e5",
   "metadata": {},
   "outputs": [
    {
     "name": "stdout",
     "output_type": "stream",
     "text": [
      "\n",
      "Recommended albums:\n",
      "                          album_name\n",
      "6494                   Life Is Yours\n",
      "11144        Bark Your Head Off, Dog\n",
      "3359   Where Polly People Go to Read\n",
      "12746   Salt and Sugar Look the Same\n",
      "13960                     Gris Klein\n"
     ]
    }
   ],
   "source": [
    "mood = \"feeling happy and jpoyful\"\n",
    "recommendations = recommender.recommend(mood, n_recommendations=5)\n",
    "print(\"\\nRecommended albums:\")\n",
    "print(recommendations[['album_name']])"
   ]
  },
  {
   "cell_type": "code",
   "execution_count": null,
   "id": "24a86a72-050c-4f38-b83a-119d6542276a",
   "metadata": {},
   "outputs": [],
   "source": []
  }
 ],
 "metadata": {
  "kernelspec": {
   "display_name": "Python 3 (ipykernel)",
   "language": "python",
   "name": "python3"
  },
  "language_info": {
   "codemirror_mode": {
    "name": "ipython",
    "version": 3
   },
   "file_extension": ".py",
   "mimetype": "text/x-python",
   "name": "python",
   "nbconvert_exporter": "python",
   "pygments_lexer": "ipython3",
   "version": "3.12.0"
  }
 },
 "nbformat": 4,
 "nbformat_minor": 5
}
