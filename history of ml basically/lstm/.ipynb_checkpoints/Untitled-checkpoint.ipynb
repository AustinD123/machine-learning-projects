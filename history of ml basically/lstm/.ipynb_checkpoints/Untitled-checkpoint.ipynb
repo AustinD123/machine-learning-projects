{
 "cells": [
  {
   "cell_type": "code",
   "execution_count": 2,
   "id": "0e7da9c4-5964-457c-bb8d-c360cb587413",
   "metadata": {},
   "outputs": [],
   "source": [
    "import torch \n",
    "import torch.nn as nn\n",
    "import torch.nn.functional as F"
   ]
  },
  {
   "cell_type": "code",
   "execution_count": 4,
   "id": "0e0275a9-0344-49d5-b122-c2d62585a9dd",
   "metadata": {},
   "outputs": [],
   "source": [
    "import torch\n",
    "import torch.nn as nn\n",
    "import torch.nn.functional as F\n",
    "\n",
    "class LSTM(nn.Module):\n",
    "    def __init__(self, input_size, hidden_size):\n",
    "        super(LSTM, self).__init__()\n",
    "        self.hidden_size = hidden_size\n",
    "\n",
    "        self.xt_f = nn.Linear(input_size, hidden_size)\n",
    "        self.ht_f = nn.Linear(hidden_size, hidden_size)\n",
    "        \n",
    "        self.xt_i = nn.Linear(input_size, hidden_size)\n",
    "        self.ht_i = nn.Linear(hidden_size, hidden_size)\n",
    "        \n",
    "        self.xt_c = nn.Linear(input_size, hidden_size)\n",
    "        self.ht_c = nn.Linear(hidden_size, hidden_size)\n",
    "\n",
    "        self.xt_o = nn.Linear(input_size, hidden_size)\n",
    "        self.ht_o = nn.Linear(hidden_size, hidden_size)\n",
    "\n",
    "    def forward(self, input, ct, ht):\n",
    "        # Forget gate\n",
    "        ft = torch.sigmoid(self.xt_f(input) + self.ht_f(ht))\n",
    "        # Input gate\n",
    "        it = torch.sigmoid(self.xt_i(input) + self.ht_i(ht))\n",
    "        # Candidate memory\n",
    "        ctt = torch.tanh(self.xt_c(input) + self.ht_c(ht))\n",
    "        # Update cell state\n",
    "        ct = ft * ct + it * ctt\n",
    "        # Output gate\n",
    "        ot = torch.sigmoid(self.xt_o(input) + self.ht_o(ht))\n",
    "        # New hidden state\n",
    "        ht = ot * torch.tanh(ct)\n",
    "\n",
    "        return ht, ct\n",
    "    def initHidden(self, ct, ht):\n",
    "        ct_zero = torch.zeros_like(ct)  # Same shape as ct\n",
    "        ht_zero = torch.zeros_like(ht)  # Same shape as ht\n",
    "        return ct_zero, ht_zero\n",
    "\n",
    "        \n"
   ]
  },
  {
   "cell_type": "code",
   "execution_count": null,
   "id": "bc18db90-ee0b-49cf-b2e6-b44e65579b4a",
   "metadata": {},
   "outputs": [],
   "source": []
  }
 ],
 "metadata": {
  "kernelspec": {
   "display_name": "Python 3 (ipykernel)",
   "language": "python",
   "name": "python3"
  },
  "language_info": {
   "codemirror_mode": {
    "name": "ipython",
    "version": 3
   },
   "file_extension": ".py",
   "mimetype": "text/x-python",
   "name": "python",
   "nbconvert_exporter": "python",
   "pygments_lexer": "ipython3",
   "version": "3.12.7"
  }
 },
 "nbformat": 4,
 "nbformat_minor": 5
}
