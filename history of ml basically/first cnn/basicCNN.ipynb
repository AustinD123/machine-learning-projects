{
 "cells": [
  {
   "cell_type": "code",
   "execution_count": 10,
   "id": "f25f6e56-ae4f-4913-aa09-98f4cdc10438",
   "metadata": {},
   "outputs": [],
   "source": [
    "import numpy as np\n",
    "import torch"
   ]
  },
  {
   "cell_type": "code",
   "execution_count": 11,
   "id": "8f932c08-0987-4c4f-b081-074ea92562c4",
   "metadata": {},
   "outputs": [],
   "source": [
    "\n",
    "def conv(input, kernel, padding=0, stride=1):\n",
    "    input_height, input_width = input.shape\n",
    "    kernel_height, kernel_width = kernel.shape\n",
    "    \n",
    "    # Calculate output dimensions\n",
    "    output_height = (input_height - kernel_height + 2 * padding) // stride + 1\n",
    "    output_width = (input_width - kernel_width + 2 * padding) // stride + 1\n",
    "    \n",
    "    # Apply padding if necessary\n",
    "    if padding > 0:\n",
    "        padded_input = np.zeros((input_height + 2 * padding, input_width + 2 * padding))\n",
    "        padded_input[padding:padding + input_height, padding:padding + input_width] = input\n",
    "    else:\n",
    "        padded_input = input\n",
    "    \n",
    "    # Initialize output matrix\n",
    "    output = np.zeros((output_height, output_width))\n",
    "    \n",
    "    # Perform convolution\n",
    "    for y in range(0, output_height):\n",
    "        for x in range(0, output_width):\n",
    "            region = padded_input[y * stride:y * stride + kernel_height, x * stride:x * stride + kernel_width]\n",
    "            output[y, x] = np.sum(region * kernel)\n",
    "    \n",
    "    return output\n"
   ]
  },
  {
   "cell_type": "code",
   "execution_count": 12,
   "id": "8dc1a25a-a43b-4b53-82c0-c23ea51081ea",
   "metadata": {},
   "outputs": [
    {
     "name": "stdout",
     "output_type": "stream",
     "text": [
      "[[ -7.  -4.   6.   8.   1.]\n",
      " [-15.  -6.  12.  14.   3.]\n",
      " [-13.  -4.   6.   8.   7.]\n",
      " [-11.   0.  -1.  -5.  12.]\n",
      " [ -3.   2.  -7. -11.  10.]]\n"
     ]
    }
   ],
   "source": [
    "\n",
    "input_matrix = np.array([\n",
    "    [1, 2, 3, 0, 1],\n",
    "    [4, 5, 6, 1, 0],\n",
    "    [7, 8, 9, 2, 3],\n",
    "    [1, 0, 1, 4, 5],\n",
    "    [2, 3, 0, 6, 7]\n",
    "])\n",
    "\n",
    "\n",
    "kernel = np.array([\n",
    "    [1, 0, -1],\n",
    "    [1, 0, -1],\n",
    "    [1, 0, -1]\n",
    "])\n",
    "\n",
    "output = conv(input_matrix, kernel, padding=1, stride=1)\n",
    "print(output)\n"
   ]
  },
  {
   "cell_type": "code",
   "execution_count": 13,
   "id": "9c37323e-9b3d-4021-9935-082b13509a88",
   "metadata": {},
   "outputs": [],
   "source": [
    "def maxPool(input, pool_size=2, stride=1):\n",
    "    output_height = (input.shape[0] - pool_size) // stride + 1\n",
    "    output_width = (input.shape[1] - pool_size) // stride + 1\n",
    "    output = np.zeros((output_height, output_width))\n",
    "    \n",
    "    for x in range(0, output_height):\n",
    "        for y in range(0, output_width):\n",
    "            region = input[x*stride:x*stride+pool_size, y*stride:y*stride+pool_size]\n",
    "            output[x, y] = np.max(region)\n",
    "    \n",
    "    return output"
   ]
  },
  {
   "cell_type": "code",
   "execution_count": 14,
   "id": "12c0e3b9-bbf4-4c36-ac88-4bc3e1c71235",
   "metadata": {},
   "outputs": [
    {
     "name": "stdout",
     "output_type": "stream",
     "text": [
      "[[-4. 12. 14. 14.]\n",
      " [-4. 12. 14. 14.]\n",
      " [ 0.  6.  8. 12.]\n",
      " [ 2.  2. -1. 12.]]\n"
     ]
    }
   ],
   "source": [
    "print(maxPool(output))"
   ]
  },
  {
   "cell_type": "code",
   "execution_count": 15,
   "id": "47618162-4b84-4b79-985c-14c06e1aee88",
   "metadata": {},
   "outputs": [],
   "source": [
    "import numpy as np\n",
    "\n",
    "class ConvLayer:\n",
    "    def __init__(self, input, kernel, padding=0, stride=1):\n",
    "        self.input = input\n",
    "        self.kernel = kernel\n",
    "        self.padding = padding\n",
    "        self.stride = stride\n",
    "    \n",
    "    def conv(self):\n",
    "        input_height, input_width = self.input.shape\n",
    "        kernel_height, kernel_width = self.kernel.shape\n",
    "        \n",
    "        output_height = (input_height - kernel_height + 2 * self.padding) // self.stride + 1\n",
    "        output_width = (input_width - kernel_width + 2 * self.padding) // self.stride + 1\n",
    "        \n",
    "        if self.padding > 0:\n",
    "            padded_input = np.zeros((input_height + 2 * self.padding, input_width + 2 * self.padding))\n",
    "            padded_input[self.padding:self.padding + input_height, self.padding:self.padding + input_width] = self.input\n",
    "        else:\n",
    "            padded_input = self.input\n",
    "        \n",
    "        output = np.zeros((output_height, output_width))\n",
    "        \n",
    "        for y in range(0, output_height):\n",
    "            for x in range(0, output_width):\n",
    "                region = padded_input[y * self.stride:y * self.stride + kernel_height, x * self.stride:x * self.stride + kernel_width]\n",
    "                output[y, x] = np.sum(region * self.kernel)\n",
    "        \n",
    "        return output\n",
    "    \n",
    "    def maxPool(self, pool_size=2, stride=1):\n",
    "        input_height, input_width = self.input.shape\n",
    "        \n",
    "        output_height = (input_height - pool_size) // stride + 1\n",
    "        output_width = (input_width - pool_size) // stride + 1\n",
    "        output = np.zeros((output_height, output_width))\n",
    "        \n",
    "        for x in range(0, output_height):\n",
    "            for y in range(0, output_width):\n",
    "                region = self.input[x*stride:x*stride+pool_size, y*stride:y*stride+pool_size]\n",
    "                output[x, y] = np.max(region)\n",
    "        \n",
    "        return output\n",
    "\n",
    "\n"
   ]
  },
  {
   "cell_type": "code",
   "execution_count": 16,
   "id": "465d61de-2394-45ef-97a8-5d5dede5a069",
   "metadata": {},
   "outputs": [
    {
     "name": "stdout",
     "output_type": "stream",
     "text": [
      "Convolution Output:\n",
      " [[ -7.  -4.   6.   8.   1.]\n",
      " [-15.  -6.  12.  14.   3.]\n",
      " [-13.  -4.   6.   8.   7.]\n",
      " [-11.   0.  -1.  -5.  12.]\n",
      " [ -3.   2.  -7. -11.  10.]]\n",
      "\n",
      "Max Pooling Output:\n",
      " [[5. 6.]\n",
      " [8. 9.]]\n"
     ]
    }
   ],
   "source": [
    "input_matrix = np.array([\n",
    "    [1, 2, 3, 0, 1],\n",
    "    [4, 5, 6, 1, 0],\n",
    "    [7, 8, 9, 2, 3],\n",
    "    [1, 0, 1, 4, 5],\n",
    "    [2, 3, 0, 6, 7]\n",
    "])\n",
    "\n",
    "kernel = np.array([\n",
    "    [1, 0, -1],\n",
    "    [1, 0, -1],\n",
    "    [1, 0, -1]\n",
    "])\n",
    "\n",
    "conv_layer = ConvLayer(input_matrix, kernel, padding=1, stride=1)\n",
    "conv_output = conv_layer.conv()\n",
    "max_pool_output = conv_layer.maxPool(pool_size=2, stride=2)\n",
    "\n",
    "print(\"Convolution Output:\\n\", conv_output)\n",
    "print(\"\\nMax Pooling Output:\\n\", max_pool_output)"
   ]
  },
  {
   "cell_type": "code",
   "execution_count": 18,
   "id": "2ce96526-5fbb-4237-8f21-5a0f04f246c6",
   "metadata": {},
   "outputs": [
    {
     "name": "stdout",
     "output_type": "stream",
     "text": [
      "Output Tensor:\n",
      "tensor([[[[-6.1478, 11.8522, 13.8522],\n",
      "          [-4.1478,  5.8522,  7.8522],\n",
      "          [-0.1478, -1.1478, -5.1478]]]], grad_fn=<ConvolutionBackward0>)\n",
      "Output Tensor Shape: torch.Size([1, 1, 3, 3])\n"
     ]
    }
   ],
   "source": [
    "import torch\n",
    "import torch.nn as nn\n",
    "input_tensor = torch.tensor(input_matrix, dtype=torch.float32).unsqueeze(0).unsqueeze(0)\n",
    "\n",
    "conv_layer = nn.Conv2d(in_channels=1, out_channels=1, kernel_size=3, padding=0)\n",
    "with torch.no_grad():\n",
    "    conv_layer.weight = torch.nn.Parameter(torch.tensor(kernel, dtype=torch.float32).unsqueeze(0).unsqueeze(0))\n",
    "output_tensor = conv_layer(input_tensor)\n",
    "\n",
    "print(\"Output Tensor:\")\n",
    "print(output_tensor)\n",
    "print(\"Output Tensor Shape:\", output_tensor.shape)\n"
   ]
  },
  {
   "cell_type": "code",
   "execution_count": null,
   "id": "6852a54f-3655-428b-bfb1-ae650f70d45b",
   "metadata": {},
   "outputs": [],
   "source": []
  }
 ],
 "metadata": {
  "kernelspec": {
   "display_name": "Python 3 (ipykernel)",
   "language": "python",
   "name": "python3"
  },
  "language_info": {
   "codemirror_mode": {
    "name": "ipython",
    "version": 3
   },
   "file_extension": ".py",
   "mimetype": "text/x-python",
   "name": "python",
   "nbconvert_exporter": "python",
   "pygments_lexer": "ipython3",
   "version": "3.12.0"
  }
 },
 "nbformat": 4,
 "nbformat_minor": 5
}
