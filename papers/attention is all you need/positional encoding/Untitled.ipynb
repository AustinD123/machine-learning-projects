{
 "cells": [
  {
   "cell_type": "code",
   "execution_count": 2,
   "id": "9c13f374-f90d-4dfa-b7b2-844736c47251",
   "metadata": {},
   "outputs": [],
   "source": [
    "import torch \n",
    "import numpy as np\n",
    "import math"
   ]
  },
  {
   "cell_type": "code",
   "execution_count": 5,
   "id": "34656d2f-b8f2-44bf-9ab2-a71f80642f9d",
   "metadata": {},
   "outputs": [],
   "source": [
    "def positionalencoding(d_model,length):\n",
    "    if(d_model%2!=0):\n",
    "        print(\"value error\")\n",
    "        return \n",
    "    pe=torch.zeros(d_model,length)\n",
    "    position = torch.arange(0, length).unsqueeze(1)\n",
    "    div_term = torch.exp((torch.arange(0, d_model, 2, dtype=torch.float) *\n",
    "                         -(math.log(10000.0) / d_model)))\n",
    "    pe[:, 0::2] = torch.sin(position.float() * div_term)\n",
    "    pe[:, 1::2] = torch.cos(position.float() * div_term)\n",
    "    return pe\n",
    "    "
   ]
  },
  {
   "cell_type": "code",
   "execution_count": 6,
   "id": "60c9dd3b-5ccf-4139-93bb-bd74a866b216",
   "metadata": {
    "scrolled": true
   },
   "outputs": [
    {
     "name": "stdout",
     "output_type": "stream",
     "text": [
      "tensor([[ 0.0000,  1.0000,  0.0000,  1.0000,  0.0000,  1.0000],\n",
      "        [ 0.8415,  0.5403,  0.0464,  0.9989,  0.0022,  1.0000],\n",
      "        [ 0.9093, -0.4161,  0.0927,  0.9957,  0.0043,  1.0000],\n",
      "        [ 0.1411, -0.9900,  0.1388,  0.9903,  0.0065,  1.0000],\n",
      "        [-0.7568, -0.6536,  0.1846,  0.9828,  0.0086,  1.0000],\n",
      "        [-0.9589,  0.2837,  0.2300,  0.9732,  0.0108,  0.9999]])\n"
     ]
    }
   ],
   "source": [
    "print(positionalencoding(6,6))"
   ]
  },
  {
   "cell_type": "code",
   "execution_count": 9,
   "id": "9a976a93-ee71-46e1-9716-b6ce4fff104a",
   "metadata": {},
   "outputs": [
    {
     "data": {
      "text/plain": [
       "(tensor([-6.7826e-02,  9.5645e-01, -4.6299e-02,  3.2287e-03, -2.1544e-03,\n",
       "          6.9737e-06]),\n",
       " tensor([ 7.6818e-01,  5.7385e-01, -4.6100e-02,  5.3735e-03, -2.1544e-03,\n",
       "          1.1563e-05]))"
      ]
     },
     "execution_count": 9,
     "metadata": {},
     "output_type": "execute_result"
    }
   ],
   "source": [
    "k=positionalencoding(6,6)\n",
    "k[1]-k[2],k[2]-k[3]"
   ]
  },
  {
   "cell_type": "code",
   "execution_count": null,
   "id": "5efc0fd8-6d77-4c59-a60a-b00513ff3de0",
   "metadata": {},
   "outputs": [],
   "source": []
  }
 ],
 "metadata": {
  "kernelspec": {
   "display_name": "Python 3 (ipykernel)",
   "language": "python",
   "name": "python3"
  },
  "language_info": {
   "codemirror_mode": {
    "name": "ipython",
    "version": 3
   },
   "file_extension": ".py",
   "mimetype": "text/x-python",
   "name": "python",
   "nbconvert_exporter": "python",
   "pygments_lexer": "ipython3",
   "version": "3.12.7"
  }
 },
 "nbformat": 4,
 "nbformat_minor": 5
}
