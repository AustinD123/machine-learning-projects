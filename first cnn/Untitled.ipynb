version https://git-lfs.github.com/spec/v1
oid sha256:572f5f05ede3213eff4c0e7c43d2884432eca29984f388ebdfad30900c8c7eba
size 3022
