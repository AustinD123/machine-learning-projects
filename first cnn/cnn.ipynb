version https://git-lfs.github.com/spec/v1
oid sha256:6bc92a7b49b2fcf4cdc8f18af76d28cc816e09d4fbcbd93f0e3688b85a0bfa8b
size 11806
